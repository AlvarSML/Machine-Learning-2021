{
 "cells": [
  {
   "cell_type": "code",
   "execution_count": 1,
   "id": "4cb44d8a",
   "metadata": {},
   "outputs": [],
   "source": [
    "#importar el dataset\n",
    "import pandas as pd\n",
    "import seaborn as sns\n",
    "import matplotlib.pyplot as plt"
   ]
  },
  {
   "cell_type": "code",
   "execution_count": null,
   "id": "e2821d35",
   "metadata": {},
   "outputs": [],
   "source": []
  },
  {
   "cell_type": "code",
   "execution_count": null,
   "id": "a05e25cb",
   "metadata": {},
   "outputs": [],
   "source": []
  },
  {
   "cell_type": "code",
   "execution_count": 2,
   "id": "1b60dfe0",
   "metadata": {},
   "outputs": [
    {
     "name": "stdout",
     "output_type": "stream",
     "text": [
      "<class 'pandas.core.frame.DataFrame'>\n",
      "RangeIndex: 217 entries, 0 to 216\n",
      "Data columns (total 16 columns):\n",
      " #   Column                        Non-Null Count  Dtype  \n",
      "---  ------                        --------------  -----  \n",
      " 0   Country Name                  217 non-null    object \n",
      " 1   Region                        216 non-null    object \n",
      " 2   Subregion                     216 non-null    object \n",
      " 3   Intermediate Region           216 non-null    object \n",
      " 4   GNI                           207 non-null    float64\n",
      " 5   Internet use                  213 non-null    float64\n",
      " 6   International tourism         203 non-null    float64\n",
      " 7   Life expectancy, female       208 non-null    float64\n",
      " 8   Life expectancy, male         208 non-null    float64\n",
      " 9   Physicians                    207 non-null    float64\n",
      " 10  Population                    217 non-null    float64\n",
      " 11  Women in national parliament  193 non-null    float64\n",
      " 12  Tertiary education, female    194 non-null    float64\n",
      " 13  Tertiary education, male      194 non-null    float64\n",
      " 14  Greenhouse gas emissions      206 non-null    float64\n",
      " 15  High Income Economy           217 non-null    object \n",
      "dtypes: float64(11), object(5)\n",
      "memory usage: 27.2+ KB\n"
     ]
    }
   ],
   "source": [
    "country=pd.read_csv('wdi_wide.csv')\n",
    "country.info()"
   ]
  },
  {
   "cell_type": "code",
   "execution_count": 3,
   "id": "1d73ae9e",
   "metadata": {
    "scrolled": false
   },
   "outputs": [
    {
     "data": {
      "text/html": [
       "<div>\n",
       "<style scoped>\n",
       "    .dataframe tbody tr th:only-of-type {\n",
       "        vertical-align: middle;\n",
       "    }\n",
       "\n",
       "    .dataframe tbody tr th {\n",
       "        vertical-align: top;\n",
       "    }\n",
       "\n",
       "    .dataframe thead th {\n",
       "        text-align: right;\n",
       "    }\n",
       "</style>\n",
       "<table border=\"1\" class=\"dataframe\">\n",
       "  <thead>\n",
       "    <tr style=\"text-align: right;\">\n",
       "      <th></th>\n",
       "      <th>Country Name</th>\n",
       "      <th>Region</th>\n",
       "      <th>Subregion</th>\n",
       "      <th>Intermediate Region</th>\n",
       "      <th>GNI</th>\n",
       "      <th>Internet use</th>\n",
       "      <th>International tourism</th>\n",
       "      <th>Life expectancy, female</th>\n",
       "      <th>Life expectancy, male</th>\n",
       "      <th>Physicians</th>\n",
       "      <th>Population</th>\n",
       "      <th>Women in national parliament</th>\n",
       "      <th>Tertiary education, female</th>\n",
       "      <th>Tertiary education, male</th>\n",
       "      <th>Greenhouse gas emissions</th>\n",
       "      <th>High Income Economy</th>\n",
       "    </tr>\n",
       "  </thead>\n",
       "  <tbody>\n",
       "    <tr>\n",
       "      <th>0</th>\n",
       "      <td>Afghanistan</td>\n",
       "      <td>Asia</td>\n",
       "      <td>Southern Asia</td>\n",
       "      <td>Southern Asia</td>\n",
       "      <td>1.999614e+10</td>\n",
       "      <td>11.447688</td>\n",
       "      <td>NaN</td>\n",
       "      <td>66.388</td>\n",
       "      <td>63.382</td>\n",
       "      <td>0.2782</td>\n",
       "      <td>38928341.0</td>\n",
       "      <td>27.016129</td>\n",
       "      <td>4.905080</td>\n",
       "      <td>14.208100</td>\n",
       "      <td>98920.000000</td>\n",
       "      <td>No</td>\n",
       "    </tr>\n",
       "    <tr>\n",
       "      <th>1</th>\n",
       "      <td>Albania</td>\n",
       "      <td>Europe</td>\n",
       "      <td>Southern Europe</td>\n",
       "      <td>Southern Europe</td>\n",
       "      <td>1.454147e+10</td>\n",
       "      <td>69.642855</td>\n",
       "      <td>6.406000e+06</td>\n",
       "      <td>80.201</td>\n",
       "      <td>77.002</td>\n",
       "      <td>1.2164</td>\n",
       "      <td>2837743.0</td>\n",
       "      <td>29.508197</td>\n",
       "      <td>73.340530</td>\n",
       "      <td>46.944038</td>\n",
       "      <td>10080.000000</td>\n",
       "      <td>No</td>\n",
       "    </tr>\n",
       "    <tr>\n",
       "      <th>2</th>\n",
       "      <td>Algeria</td>\n",
       "      <td>Africa</td>\n",
       "      <td>Northern Africa</td>\n",
       "      <td>Northern Africa</td>\n",
       "      <td>1.418545e+11</td>\n",
       "      <td>49.038468</td>\n",
       "      <td>2.371000e+06</td>\n",
       "      <td>78.133</td>\n",
       "      <td>75.676</td>\n",
       "      <td>1.7193</td>\n",
       "      <td>43851043.0</td>\n",
       "      <td>25.757576</td>\n",
       "      <td>64.420807</td>\n",
       "      <td>38.831699</td>\n",
       "      <td>218910.000000</td>\n",
       "      <td>No</td>\n",
       "    </tr>\n",
       "    <tr>\n",
       "      <th>3</th>\n",
       "      <td>American Samoa</td>\n",
       "      <td>Oceania</td>\n",
       "      <td>Polynesia</td>\n",
       "      <td>Polynesia</td>\n",
       "      <td>1.897000e+08</td>\n",
       "      <td>0.000000</td>\n",
       "      <td>5.270000e+04</td>\n",
       "      <td>NaN</td>\n",
       "      <td>NaN</td>\n",
       "      <td>0.7810</td>\n",
       "      <td>55197.0</td>\n",
       "      <td>NaN</td>\n",
       "      <td>NaN</td>\n",
       "      <td>NaN</td>\n",
       "      <td>20.749535</td>\n",
       "      <td>No</td>\n",
       "    </tr>\n",
       "    <tr>\n",
       "      <th>4</th>\n",
       "      <td>Andorra</td>\n",
       "      <td>Europe</td>\n",
       "      <td>Southern Europe</td>\n",
       "      <td>Southern Europe</td>\n",
       "      <td>NaN</td>\n",
       "      <td>91.567467</td>\n",
       "      <td>8.235000e+06</td>\n",
       "      <td>NaN</td>\n",
       "      <td>NaN</td>\n",
       "      <td>3.3333</td>\n",
       "      <td>77265.0</td>\n",
       "      <td>46.428571</td>\n",
       "      <td>NaN</td>\n",
       "      <td>NaN</td>\n",
       "      <td>590.000000</td>\n",
       "      <td>No</td>\n",
       "    </tr>\n",
       "    <tr>\n",
       "      <th>...</th>\n",
       "      <td>...</td>\n",
       "      <td>...</td>\n",
       "      <td>...</td>\n",
       "      <td>...</td>\n",
       "      <td>...</td>\n",
       "      <td>...</td>\n",
       "      <td>...</td>\n",
       "      <td>...</td>\n",
       "      <td>...</td>\n",
       "      <td>...</td>\n",
       "      <td>...</td>\n",
       "      <td>...</td>\n",
       "      <td>...</td>\n",
       "      <td>...</td>\n",
       "      <td>...</td>\n",
       "      <td>...</td>\n",
       "    </tr>\n",
       "    <tr>\n",
       "      <th>212</th>\n",
       "      <td>Virgin Islands (U.S.)</td>\n",
       "      <td>Americas</td>\n",
       "      <td>Latin America and the Caribbean</td>\n",
       "      <td>Caribbean</td>\n",
       "      <td>NaN</td>\n",
       "      <td>64.377494</td>\n",
       "      <td>2.074000e+06</td>\n",
       "      <td>83.100</td>\n",
       "      <td>76.400</td>\n",
       "      <td>1.6450</td>\n",
       "      <td>106290.0</td>\n",
       "      <td>NaN</td>\n",
       "      <td>NaN</td>\n",
       "      <td>NaN</td>\n",
       "      <td>44.728346</td>\n",
       "      <td>No</td>\n",
       "    </tr>\n",
       "    <tr>\n",
       "      <th>213</th>\n",
       "      <td>West Bank and Gaza</td>\n",
       "      <td>Asia</td>\n",
       "      <td>Western Asia</td>\n",
       "      <td>Western Asia</td>\n",
       "      <td>1.810720e+10</td>\n",
       "      <td>70.622607</td>\n",
       "      <td>6.880000e+05</td>\n",
       "      <td>75.755</td>\n",
       "      <td>72.416</td>\n",
       "      <td>0.8370</td>\n",
       "      <td>4803269.0</td>\n",
       "      <td>NaN</td>\n",
       "      <td>53.899738</td>\n",
       "      <td>32.934238</td>\n",
       "      <td>NaN</td>\n",
       "      <td>No</td>\n",
       "    </tr>\n",
       "    <tr>\n",
       "      <th>214</th>\n",
       "      <td>Yemen, Rep.</td>\n",
       "      <td>Asia</td>\n",
       "      <td>Western Asia</td>\n",
       "      <td>Western Asia</td>\n",
       "      <td>2.346927e+10</td>\n",
       "      <td>26.718355</td>\n",
       "      <td>3.980000e+05</td>\n",
       "      <td>67.826</td>\n",
       "      <td>64.443</td>\n",
       "      <td>0.5251</td>\n",
       "      <td>29825968.0</td>\n",
       "      <td>0.332226</td>\n",
       "      <td>6.169670</td>\n",
       "      <td>14.015930</td>\n",
       "      <td>21760.000000</td>\n",
       "      <td>No</td>\n",
       "    </tr>\n",
       "    <tr>\n",
       "      <th>215</th>\n",
       "      <td>Zambia</td>\n",
       "      <td>Africa</td>\n",
       "      <td>Sub-Saharan Africa</td>\n",
       "      <td>Eastern Africa</td>\n",
       "      <td>1.879791e+10</td>\n",
       "      <td>14.299997</td>\n",
       "      <td>1.266000e+06</td>\n",
       "      <td>66.891</td>\n",
       "      <td>60.848</td>\n",
       "      <td>1.1867</td>\n",
       "      <td>18383956.0</td>\n",
       "      <td>16.766467</td>\n",
       "      <td>3.501670</td>\n",
       "      <td>4.750290</td>\n",
       "      <td>40670.000000</td>\n",
       "      <td>No</td>\n",
       "    </tr>\n",
       "    <tr>\n",
       "      <th>216</th>\n",
       "      <td>Zimbabwe</td>\n",
       "      <td>Africa</td>\n",
       "      <td>Sub-Saharan Africa</td>\n",
       "      <td>Eastern Africa</td>\n",
       "      <td>1.649462e+10</td>\n",
       "      <td>27.055488</td>\n",
       "      <td>2.294000e+06</td>\n",
       "      <td>62.899</td>\n",
       "      <td>59.798</td>\n",
       "      <td>0.2096</td>\n",
       "      <td>14862927.0</td>\n",
       "      <td>31.851852</td>\n",
       "      <td>9.172130</td>\n",
       "      <td>10.919660</td>\n",
       "      <td>31380.000000</td>\n",
       "      <td>No</td>\n",
       "    </tr>\n",
       "  </tbody>\n",
       "</table>\n",
       "<p>217 rows × 16 columns</p>\n",
       "</div>"
      ],
      "text/plain": [
       "              Country Name    Region                        Subregion  \\\n",
       "0              Afghanistan      Asia                    Southern Asia   \n",
       "1                  Albania    Europe                  Southern Europe   \n",
       "2                  Algeria    Africa                  Northern Africa   \n",
       "3           American Samoa   Oceania                        Polynesia   \n",
       "4                  Andorra    Europe                  Southern Europe   \n",
       "..                     ...       ...                              ...   \n",
       "212  Virgin Islands (U.S.)  Americas  Latin America and the Caribbean   \n",
       "213     West Bank and Gaza      Asia                     Western Asia   \n",
       "214            Yemen, Rep.      Asia                     Western Asia   \n",
       "215                 Zambia    Africa               Sub-Saharan Africa   \n",
       "216               Zimbabwe    Africa               Sub-Saharan Africa   \n",
       "\n",
       "    Intermediate Region           GNI  Internet use  International tourism  \\\n",
       "0         Southern Asia  1.999614e+10     11.447688                    NaN   \n",
       "1       Southern Europe  1.454147e+10     69.642855           6.406000e+06   \n",
       "2       Northern Africa  1.418545e+11     49.038468           2.371000e+06   \n",
       "3             Polynesia  1.897000e+08      0.000000           5.270000e+04   \n",
       "4       Southern Europe           NaN     91.567467           8.235000e+06   \n",
       "..                  ...           ...           ...                    ...   \n",
       "212           Caribbean           NaN     64.377494           2.074000e+06   \n",
       "213        Western Asia  1.810720e+10     70.622607           6.880000e+05   \n",
       "214        Western Asia  2.346927e+10     26.718355           3.980000e+05   \n",
       "215      Eastern Africa  1.879791e+10     14.299997           1.266000e+06   \n",
       "216      Eastern Africa  1.649462e+10     27.055488           2.294000e+06   \n",
       "\n",
       "     Life expectancy, female  Life expectancy, male  Physicians  Population  \\\n",
       "0                     66.388                 63.382      0.2782  38928341.0   \n",
       "1                     80.201                 77.002      1.2164   2837743.0   \n",
       "2                     78.133                 75.676      1.7193  43851043.0   \n",
       "3                        NaN                    NaN      0.7810     55197.0   \n",
       "4                        NaN                    NaN      3.3333     77265.0   \n",
       "..                       ...                    ...         ...         ...   \n",
       "212                   83.100                 76.400      1.6450    106290.0   \n",
       "213                   75.755                 72.416      0.8370   4803269.0   \n",
       "214                   67.826                 64.443      0.5251  29825968.0   \n",
       "215                   66.891                 60.848      1.1867  18383956.0   \n",
       "216                   62.899                 59.798      0.2096  14862927.0   \n",
       "\n",
       "     Women in national parliament  Tertiary education, female  \\\n",
       "0                       27.016129                    4.905080   \n",
       "1                       29.508197                   73.340530   \n",
       "2                       25.757576                   64.420807   \n",
       "3                             NaN                         NaN   \n",
       "4                       46.428571                         NaN   \n",
       "..                            ...                         ...   \n",
       "212                           NaN                         NaN   \n",
       "213                           NaN                   53.899738   \n",
       "214                      0.332226                    6.169670   \n",
       "215                     16.766467                    3.501670   \n",
       "216                     31.851852                    9.172130   \n",
       "\n",
       "     Tertiary education, male  Greenhouse gas emissions High Income Economy  \n",
       "0                   14.208100              98920.000000                  No  \n",
       "1                   46.944038              10080.000000                  No  \n",
       "2                   38.831699             218910.000000                  No  \n",
       "3                         NaN                 20.749535                  No  \n",
       "4                         NaN                590.000000                  No  \n",
       "..                        ...                       ...                 ...  \n",
       "212                       NaN                 44.728346                  No  \n",
       "213                 32.934238                       NaN                  No  \n",
       "214                 14.015930              21760.000000                  No  \n",
       "215                  4.750290              40670.000000                  No  \n",
       "216                 10.919660              31380.000000                  No  \n",
       "\n",
       "[217 rows x 16 columns]"
      ]
     },
     "execution_count": 3,
     "metadata": {},
     "output_type": "execute_result"
    }
   ],
   "source": [
    "country"
   ]
  },
  {
   "cell_type": "code",
   "execution_count": 4,
   "id": "caf2376d",
   "metadata": {},
   "outputs": [],
   "source": [
    "# sns.pairplot(data=country,hue=\"High Income Economy\")"
   ]
  },
  {
   "cell_type": "code",
   "execution_count": null,
   "id": "63311b7d",
   "metadata": {},
   "outputs": [],
   "source": []
  },
  {
   "cell_type": "code",
   "execution_count": null,
   "id": "62db89b6",
   "metadata": {},
   "outputs": [],
   "source": []
  },
  {
   "cell_type": "code",
   "execution_count": null,
   "id": "286a55ee",
   "metadata": {},
   "outputs": [],
   "source": []
  },
  {
   "cell_type": "code",
   "execution_count": null,
   "id": "703eb884",
   "metadata": {},
   "outputs": [],
   "source": []
  },
  {
   "cell_type": "markdown",
   "id": "11f1b498",
   "metadata": {},
   "source": [
    "# Car insurance data\n",
    "\n",
    "**Content**\n",
    "\n",
    "The columns are resembling practical world features.\n",
    "The outcome column indicates 1 if a customer has claimed his/her loan else 0.\n",
    "The data has 19 features from there 18 of them are corresponding logs which were taken by the company.\n",
    "\n",
    "## 0. Initial analysis of the data\n",
    "### 0.1 Analysis of null or not valid values"
   ]
  },
  {
   "cell_type": "code",
   "execution_count": 5,
   "id": "1722350a",
   "metadata": {},
   "outputs": [
    {
     "name": "stdout",
     "output_type": "stream",
     "text": [
      "<class 'pandas.core.frame.DataFrame'>\n",
      "RangeIndex: 10000 entries, 0 to 9999\n",
      "Data columns (total 19 columns):\n",
      " #   Column               Non-Null Count  Dtype  \n",
      "---  ------               --------------  -----  \n",
      " 0   ID                   10000 non-null  int64  \n",
      " 1   AGE                  10000 non-null  object \n",
      " 2   GENDER               10000 non-null  object \n",
      " 3   RACE                 10000 non-null  object \n",
      " 4   DRIVING_EXPERIENCE   10000 non-null  object \n",
      " 5   EDUCATION            10000 non-null  object \n",
      " 6   INCOME               10000 non-null  object \n",
      " 7   CREDIT_SCORE         9018 non-null   float64\n",
      " 8   VEHICLE_OWNERSHIP    10000 non-null  float64\n",
      " 9   VEHICLE_YEAR         10000 non-null  object \n",
      " 10  MARRIED              10000 non-null  float64\n",
      " 11  CHILDREN             10000 non-null  float64\n",
      " 12  POSTAL_CODE          10000 non-null  int64  \n",
      " 13  ANNUAL_MILEAGE       9043 non-null   float64\n",
      " 14  VEHICLE_TYPE         10000 non-null  object \n",
      " 15  SPEEDING_VIOLATIONS  10000 non-null  int64  \n",
      " 16  DUIS                 10000 non-null  int64  \n",
      " 17  PAST_ACCIDENTS       10000 non-null  int64  \n",
      " 18  OUTCOME              10000 non-null  float64\n",
      "dtypes: float64(6), int64(5), object(8)\n",
      "memory usage: 1.4+ MB\n"
     ]
    }
   ],
   "source": [
    "# https://www.kaggle.com/sagnik1511/car-insurance-data?select=Car_Insurance_Claim.csv\n",
    "coches=pd.read_csv('Car_Insurance_Claim.csv')\n",
    "coches.info()"
   ]
  },
  {
   "cell_type": "markdown",
   "id": "bf8b166a",
   "metadata": {},
   "source": [
    "<div class=\"alert alert-block alert-info\">\n",
    "    Null values were only found in columns 7 <b>(CREDIT_SCORE)</b> and 13 <b>(ANUAL_MILEAGE)</b>, but the other coulumns will be analyzed to search for other invalid values\n",
    "</div>"
   ]
  },
  {
   "cell_type": "markdown",
   "id": "888c17b5",
   "metadata": {},
   "source": [
    "### 0.2 Analysis of duplicated values\n",
    "The only relevant column that could have duplicated values is the ID one, since there can only be one row per client"
   ]
  },
  {
   "cell_type": "code",
   "execution_count": 6,
   "id": "983405ec",
   "metadata": {},
   "outputs": [
    {
     "data": {
      "text/plain": [
       "10000"
      ]
     },
     "execution_count": 6,
     "metadata": {},
     "output_type": "execute_result"
    }
   ],
   "source": [
    "coches[\"ID\"].nunique()"
   ]
  },
  {
   "cell_type": "markdown",
   "id": "dc352f88",
   "metadata": {},
   "source": [
    "<div class=\"alert alert-block alert-info\">\n",
    "    All values in the ID column are unique\n",
    "</div>"
   ]
  },
  {
   "cell_type": "markdown",
   "id": "54a4ef13",
   "metadata": {},
   "source": [
    "### 0.3 Analysis of data types\n",
    "Some columns will need a codification to work with them, first we check the 20 first values to try to identify patterns in data."
   ]
  },
  {
   "cell_type": "code",
   "execution_count": 7,
   "id": "63abe4fd",
   "metadata": {
    "scrolled": true
   },
   "outputs": [
    {
     "data": {
      "text/html": [
       "<div>\n",
       "<style scoped>\n",
       "    .dataframe tbody tr th:only-of-type {\n",
       "        vertical-align: middle;\n",
       "    }\n",
       "\n",
       "    .dataframe tbody tr th {\n",
       "        vertical-align: top;\n",
       "    }\n",
       "\n",
       "    .dataframe thead th {\n",
       "        text-align: right;\n",
       "    }\n",
       "</style>\n",
       "<table border=\"1\" class=\"dataframe\">\n",
       "  <thead>\n",
       "    <tr style=\"text-align: right;\">\n",
       "      <th></th>\n",
       "      <th>ID</th>\n",
       "      <th>AGE</th>\n",
       "      <th>GENDER</th>\n",
       "      <th>RACE</th>\n",
       "      <th>DRIVING_EXPERIENCE</th>\n",
       "      <th>EDUCATION</th>\n",
       "      <th>INCOME</th>\n",
       "      <th>CREDIT_SCORE</th>\n",
       "      <th>VEHICLE_OWNERSHIP</th>\n",
       "      <th>VEHICLE_YEAR</th>\n",
       "      <th>MARRIED</th>\n",
       "      <th>CHILDREN</th>\n",
       "      <th>POSTAL_CODE</th>\n",
       "      <th>ANNUAL_MILEAGE</th>\n",
       "      <th>VEHICLE_TYPE</th>\n",
       "      <th>SPEEDING_VIOLATIONS</th>\n",
       "      <th>DUIS</th>\n",
       "      <th>PAST_ACCIDENTS</th>\n",
       "      <th>OUTCOME</th>\n",
       "    </tr>\n",
       "  </thead>\n",
       "  <tbody>\n",
       "    <tr>\n",
       "      <th>0</th>\n",
       "      <td>569520</td>\n",
       "      <td>65+</td>\n",
       "      <td>female</td>\n",
       "      <td>majority</td>\n",
       "      <td>0-9y</td>\n",
       "      <td>high school</td>\n",
       "      <td>upper class</td>\n",
       "      <td>0.629027</td>\n",
       "      <td>1.0</td>\n",
       "      <td>after 2015</td>\n",
       "      <td>0.0</td>\n",
       "      <td>1.0</td>\n",
       "      <td>10238</td>\n",
       "      <td>12000.0</td>\n",
       "      <td>sedan</td>\n",
       "      <td>0</td>\n",
       "      <td>0</td>\n",
       "      <td>0</td>\n",
       "      <td>0.0</td>\n",
       "    </tr>\n",
       "    <tr>\n",
       "      <th>1</th>\n",
       "      <td>750365</td>\n",
       "      <td>16-25</td>\n",
       "      <td>male</td>\n",
       "      <td>majority</td>\n",
       "      <td>0-9y</td>\n",
       "      <td>none</td>\n",
       "      <td>poverty</td>\n",
       "      <td>0.357757</td>\n",
       "      <td>0.0</td>\n",
       "      <td>before 2015</td>\n",
       "      <td>0.0</td>\n",
       "      <td>0.0</td>\n",
       "      <td>10238</td>\n",
       "      <td>16000.0</td>\n",
       "      <td>sedan</td>\n",
       "      <td>0</td>\n",
       "      <td>0</td>\n",
       "      <td>0</td>\n",
       "      <td>1.0</td>\n",
       "    </tr>\n",
       "    <tr>\n",
       "      <th>2</th>\n",
       "      <td>199901</td>\n",
       "      <td>16-25</td>\n",
       "      <td>female</td>\n",
       "      <td>majority</td>\n",
       "      <td>0-9y</td>\n",
       "      <td>high school</td>\n",
       "      <td>working class</td>\n",
       "      <td>0.493146</td>\n",
       "      <td>1.0</td>\n",
       "      <td>before 2015</td>\n",
       "      <td>0.0</td>\n",
       "      <td>0.0</td>\n",
       "      <td>10238</td>\n",
       "      <td>11000.0</td>\n",
       "      <td>sedan</td>\n",
       "      <td>0</td>\n",
       "      <td>0</td>\n",
       "      <td>0</td>\n",
       "      <td>0.0</td>\n",
       "    </tr>\n",
       "    <tr>\n",
       "      <th>3</th>\n",
       "      <td>478866</td>\n",
       "      <td>16-25</td>\n",
       "      <td>male</td>\n",
       "      <td>majority</td>\n",
       "      <td>0-9y</td>\n",
       "      <td>university</td>\n",
       "      <td>working class</td>\n",
       "      <td>0.206013</td>\n",
       "      <td>1.0</td>\n",
       "      <td>before 2015</td>\n",
       "      <td>0.0</td>\n",
       "      <td>1.0</td>\n",
       "      <td>32765</td>\n",
       "      <td>11000.0</td>\n",
       "      <td>sedan</td>\n",
       "      <td>0</td>\n",
       "      <td>0</td>\n",
       "      <td>0</td>\n",
       "      <td>0.0</td>\n",
       "    </tr>\n",
       "    <tr>\n",
       "      <th>4</th>\n",
       "      <td>731664</td>\n",
       "      <td>26-39</td>\n",
       "      <td>male</td>\n",
       "      <td>majority</td>\n",
       "      <td>10-19y</td>\n",
       "      <td>none</td>\n",
       "      <td>working class</td>\n",
       "      <td>0.388366</td>\n",
       "      <td>1.0</td>\n",
       "      <td>before 2015</td>\n",
       "      <td>0.0</td>\n",
       "      <td>0.0</td>\n",
       "      <td>32765</td>\n",
       "      <td>12000.0</td>\n",
       "      <td>sedan</td>\n",
       "      <td>2</td>\n",
       "      <td>0</td>\n",
       "      <td>1</td>\n",
       "      <td>1.0</td>\n",
       "    </tr>\n",
       "    <tr>\n",
       "      <th>5</th>\n",
       "      <td>877557</td>\n",
       "      <td>40-64</td>\n",
       "      <td>female</td>\n",
       "      <td>majority</td>\n",
       "      <td>20-29y</td>\n",
       "      <td>high school</td>\n",
       "      <td>upper class</td>\n",
       "      <td>0.619127</td>\n",
       "      <td>1.0</td>\n",
       "      <td>after 2015</td>\n",
       "      <td>0.0</td>\n",
       "      <td>1.0</td>\n",
       "      <td>10238</td>\n",
       "      <td>13000.0</td>\n",
       "      <td>sedan</td>\n",
       "      <td>3</td>\n",
       "      <td>0</td>\n",
       "      <td>3</td>\n",
       "      <td>0.0</td>\n",
       "    </tr>\n",
       "    <tr>\n",
       "      <th>6</th>\n",
       "      <td>930134</td>\n",
       "      <td>65+</td>\n",
       "      <td>male</td>\n",
       "      <td>majority</td>\n",
       "      <td>30y+</td>\n",
       "      <td>high school</td>\n",
       "      <td>upper class</td>\n",
       "      <td>0.492944</td>\n",
       "      <td>0.0</td>\n",
       "      <td>after 2015</td>\n",
       "      <td>1.0</td>\n",
       "      <td>1.0</td>\n",
       "      <td>10238</td>\n",
       "      <td>13000.0</td>\n",
       "      <td>sedan</td>\n",
       "      <td>7</td>\n",
       "      <td>0</td>\n",
       "      <td>3</td>\n",
       "      <td>0.0</td>\n",
       "    </tr>\n",
       "    <tr>\n",
       "      <th>7</th>\n",
       "      <td>461006</td>\n",
       "      <td>26-39</td>\n",
       "      <td>female</td>\n",
       "      <td>majority</td>\n",
       "      <td>0-9y</td>\n",
       "      <td>university</td>\n",
       "      <td>working class</td>\n",
       "      <td>0.468689</td>\n",
       "      <td>0.0</td>\n",
       "      <td>after 2015</td>\n",
       "      <td>0.0</td>\n",
       "      <td>1.0</td>\n",
       "      <td>10238</td>\n",
       "      <td>14000.0</td>\n",
       "      <td>sedan</td>\n",
       "      <td>0</td>\n",
       "      <td>0</td>\n",
       "      <td>0</td>\n",
       "      <td>1.0</td>\n",
       "    </tr>\n",
       "    <tr>\n",
       "      <th>8</th>\n",
       "      <td>68366</td>\n",
       "      <td>40-64</td>\n",
       "      <td>female</td>\n",
       "      <td>majority</td>\n",
       "      <td>20-29y</td>\n",
       "      <td>university</td>\n",
       "      <td>working class</td>\n",
       "      <td>0.521815</td>\n",
       "      <td>0.0</td>\n",
       "      <td>before 2015</td>\n",
       "      <td>1.0</td>\n",
       "      <td>0.0</td>\n",
       "      <td>10238</td>\n",
       "      <td>13000.0</td>\n",
       "      <td>sedan</td>\n",
       "      <td>0</td>\n",
       "      <td>0</td>\n",
       "      <td>0</td>\n",
       "      <td>0.0</td>\n",
       "    </tr>\n",
       "    <tr>\n",
       "      <th>9</th>\n",
       "      <td>445911</td>\n",
       "      <td>40-64</td>\n",
       "      <td>female</td>\n",
       "      <td>majority</td>\n",
       "      <td>0-9y</td>\n",
       "      <td>high school</td>\n",
       "      <td>upper class</td>\n",
       "      <td>0.561531</td>\n",
       "      <td>1.0</td>\n",
       "      <td>before 2015</td>\n",
       "      <td>0.0</td>\n",
       "      <td>1.0</td>\n",
       "      <td>32765</td>\n",
       "      <td>11000.0</td>\n",
       "      <td>sedan</td>\n",
       "      <td>0</td>\n",
       "      <td>0</td>\n",
       "      <td>0</td>\n",
       "      <td>1.0</td>\n",
       "    </tr>\n",
       "    <tr>\n",
       "      <th>10</th>\n",
       "      <td>275820</td>\n",
       "      <td>65+</td>\n",
       "      <td>male</td>\n",
       "      <td>majority</td>\n",
       "      <td>30y+</td>\n",
       "      <td>high school</td>\n",
       "      <td>upper class</td>\n",
       "      <td>0.620361</td>\n",
       "      <td>1.0</td>\n",
       "      <td>after 2015</td>\n",
       "      <td>1.0</td>\n",
       "      <td>1.0</td>\n",
       "      <td>10238</td>\n",
       "      <td>10000.0</td>\n",
       "      <td>sedan</td>\n",
       "      <td>6</td>\n",
       "      <td>2</td>\n",
       "      <td>7</td>\n",
       "      <td>0.0</td>\n",
       "    </tr>\n",
       "    <tr>\n",
       "      <th>11</th>\n",
       "      <td>521399</td>\n",
       "      <td>65+</td>\n",
       "      <td>female</td>\n",
       "      <td>majority</td>\n",
       "      <td>30y+</td>\n",
       "      <td>high school</td>\n",
       "      <td>upper class</td>\n",
       "      <td>0.729831</td>\n",
       "      <td>1.0</td>\n",
       "      <td>after 2015</td>\n",
       "      <td>1.0</td>\n",
       "      <td>0.0</td>\n",
       "      <td>32765</td>\n",
       "      <td>12000.0</td>\n",
       "      <td>sedan</td>\n",
       "      <td>4</td>\n",
       "      <td>0</td>\n",
       "      <td>0</td>\n",
       "      <td>0.0</td>\n",
       "    </tr>\n",
       "    <tr>\n",
       "      <th>12</th>\n",
       "      <td>429728</td>\n",
       "      <td>40-64</td>\n",
       "      <td>male</td>\n",
       "      <td>majority</td>\n",
       "      <td>20-29y</td>\n",
       "      <td>high school</td>\n",
       "      <td>upper class</td>\n",
       "      <td>0.637045</td>\n",
       "      <td>1.0</td>\n",
       "      <td>before 2015</td>\n",
       "      <td>1.0</td>\n",
       "      <td>1.0</td>\n",
       "      <td>10238</td>\n",
       "      <td>8000.0</td>\n",
       "      <td>sedan</td>\n",
       "      <td>4</td>\n",
       "      <td>1</td>\n",
       "      <td>2</td>\n",
       "      <td>0.0</td>\n",
       "    </tr>\n",
       "    <tr>\n",
       "      <th>13</th>\n",
       "      <td>569640</td>\n",
       "      <td>16-25</td>\n",
       "      <td>female</td>\n",
       "      <td>majority</td>\n",
       "      <td>0-9y</td>\n",
       "      <td>university</td>\n",
       "      <td>upper class</td>\n",
       "      <td>0.591260</td>\n",
       "      <td>1.0</td>\n",
       "      <td>before 2015</td>\n",
       "      <td>0.0</td>\n",
       "      <td>1.0</td>\n",
       "      <td>10238</td>\n",
       "      <td>NaN</td>\n",
       "      <td>sedan</td>\n",
       "      <td>0</td>\n",
       "      <td>0</td>\n",
       "      <td>0</td>\n",
       "      <td>0.0</td>\n",
       "    </tr>\n",
       "    <tr>\n",
       "      <th>14</th>\n",
       "      <td>980181</td>\n",
       "      <td>26-39</td>\n",
       "      <td>male</td>\n",
       "      <td>majority</td>\n",
       "      <td>10-19y</td>\n",
       "      <td>high school</td>\n",
       "      <td>middle class</td>\n",
       "      <td>0.461568</td>\n",
       "      <td>1.0</td>\n",
       "      <td>before 2015</td>\n",
       "      <td>1.0</td>\n",
       "      <td>1.0</td>\n",
       "      <td>10238</td>\n",
       "      <td>12000.0</td>\n",
       "      <td>sedan</td>\n",
       "      <td>0</td>\n",
       "      <td>2</td>\n",
       "      <td>1</td>\n",
       "      <td>0.0</td>\n",
       "    </tr>\n",
       "    <tr>\n",
       "      <th>15</th>\n",
       "      <td>906223</td>\n",
       "      <td>26-39</td>\n",
       "      <td>female</td>\n",
       "      <td>majority</td>\n",
       "      <td>0-9y</td>\n",
       "      <td>high school</td>\n",
       "      <td>upper class</td>\n",
       "      <td>0.762798</td>\n",
       "      <td>0.0</td>\n",
       "      <td>after 2015</td>\n",
       "      <td>1.0</td>\n",
       "      <td>0.0</td>\n",
       "      <td>10238</td>\n",
       "      <td>NaN</td>\n",
       "      <td>sedan</td>\n",
       "      <td>0</td>\n",
       "      <td>0</td>\n",
       "      <td>0</td>\n",
       "      <td>0.0</td>\n",
       "    </tr>\n",
       "    <tr>\n",
       "      <th>16</th>\n",
       "      <td>517747</td>\n",
       "      <td>65+</td>\n",
       "      <td>male</td>\n",
       "      <td>majority</td>\n",
       "      <td>30y+</td>\n",
       "      <td>university</td>\n",
       "      <td>upper class</td>\n",
       "      <td>0.796175</td>\n",
       "      <td>1.0</td>\n",
       "      <td>before 2015</td>\n",
       "      <td>1.0</td>\n",
       "      <td>1.0</td>\n",
       "      <td>32765</td>\n",
       "      <td>NaN</td>\n",
       "      <td>sedan</td>\n",
       "      <td>10</td>\n",
       "      <td>2</td>\n",
       "      <td>1</td>\n",
       "      <td>0.0</td>\n",
       "    </tr>\n",
       "    <tr>\n",
       "      <th>17</th>\n",
       "      <td>24851</td>\n",
       "      <td>16-25</td>\n",
       "      <td>male</td>\n",
       "      <td>majority</td>\n",
       "      <td>0-9y</td>\n",
       "      <td>none</td>\n",
       "      <td>poverty</td>\n",
       "      <td>NaN</td>\n",
       "      <td>0.0</td>\n",
       "      <td>before 2015</td>\n",
       "      <td>1.0</td>\n",
       "      <td>0.0</td>\n",
       "      <td>32765</td>\n",
       "      <td>12000.0</td>\n",
       "      <td>sedan</td>\n",
       "      <td>0</td>\n",
       "      <td>0</td>\n",
       "      <td>0</td>\n",
       "      <td>1.0</td>\n",
       "    </tr>\n",
       "    <tr>\n",
       "      <th>18</th>\n",
       "      <td>104086</td>\n",
       "      <td>26-39</td>\n",
       "      <td>female</td>\n",
       "      <td>majority</td>\n",
       "      <td>0-9y</td>\n",
       "      <td>university</td>\n",
       "      <td>upper class</td>\n",
       "      <td>0.680594</td>\n",
       "      <td>1.0</td>\n",
       "      <td>before 2015</td>\n",
       "      <td>0.0</td>\n",
       "      <td>1.0</td>\n",
       "      <td>32765</td>\n",
       "      <td>NaN</td>\n",
       "      <td>sedan</td>\n",
       "      <td>0</td>\n",
       "      <td>0</td>\n",
       "      <td>0</td>\n",
       "      <td>1.0</td>\n",
       "    </tr>\n",
       "    <tr>\n",
       "      <th>19</th>\n",
       "      <td>240658</td>\n",
       "      <td>16-25</td>\n",
       "      <td>female</td>\n",
       "      <td>majority</td>\n",
       "      <td>0-9y</td>\n",
       "      <td>high school</td>\n",
       "      <td>working class</td>\n",
       "      <td>0.417714</td>\n",
       "      <td>1.0</td>\n",
       "      <td>before 2015</td>\n",
       "      <td>0.0</td>\n",
       "      <td>1.0</td>\n",
       "      <td>10238</td>\n",
       "      <td>18000.0</td>\n",
       "      <td>sedan</td>\n",
       "      <td>0</td>\n",
       "      <td>0</td>\n",
       "      <td>0</td>\n",
       "      <td>1.0</td>\n",
       "    </tr>\n",
       "  </tbody>\n",
       "</table>\n",
       "</div>"
      ],
      "text/plain": [
       "        ID    AGE  GENDER      RACE DRIVING_EXPERIENCE    EDUCATION  \\\n",
       "0   569520    65+  female  majority               0-9y  high school   \n",
       "1   750365  16-25    male  majority               0-9y         none   \n",
       "2   199901  16-25  female  majority               0-9y  high school   \n",
       "3   478866  16-25    male  majority               0-9y   university   \n",
       "4   731664  26-39    male  majority             10-19y         none   \n",
       "5   877557  40-64  female  majority             20-29y  high school   \n",
       "6   930134    65+    male  majority               30y+  high school   \n",
       "7   461006  26-39  female  majority               0-9y   university   \n",
       "8    68366  40-64  female  majority             20-29y   university   \n",
       "9   445911  40-64  female  majority               0-9y  high school   \n",
       "10  275820    65+    male  majority               30y+  high school   \n",
       "11  521399    65+  female  majority               30y+  high school   \n",
       "12  429728  40-64    male  majority             20-29y  high school   \n",
       "13  569640  16-25  female  majority               0-9y   university   \n",
       "14  980181  26-39    male  majority             10-19y  high school   \n",
       "15  906223  26-39  female  majority               0-9y  high school   \n",
       "16  517747    65+    male  majority               30y+   university   \n",
       "17   24851  16-25    male  majority               0-9y         none   \n",
       "18  104086  26-39  female  majority               0-9y   university   \n",
       "19  240658  16-25  female  majority               0-9y  high school   \n",
       "\n",
       "           INCOME  CREDIT_SCORE  VEHICLE_OWNERSHIP VEHICLE_YEAR  MARRIED  \\\n",
       "0     upper class      0.629027                1.0   after 2015      0.0   \n",
       "1         poverty      0.357757                0.0  before 2015      0.0   \n",
       "2   working class      0.493146                1.0  before 2015      0.0   \n",
       "3   working class      0.206013                1.0  before 2015      0.0   \n",
       "4   working class      0.388366                1.0  before 2015      0.0   \n",
       "5     upper class      0.619127                1.0   after 2015      0.0   \n",
       "6     upper class      0.492944                0.0   after 2015      1.0   \n",
       "7   working class      0.468689                0.0   after 2015      0.0   \n",
       "8   working class      0.521815                0.0  before 2015      1.0   \n",
       "9     upper class      0.561531                1.0  before 2015      0.0   \n",
       "10    upper class      0.620361                1.0   after 2015      1.0   \n",
       "11    upper class      0.729831                1.0   after 2015      1.0   \n",
       "12    upper class      0.637045                1.0  before 2015      1.0   \n",
       "13    upper class      0.591260                1.0  before 2015      0.0   \n",
       "14   middle class      0.461568                1.0  before 2015      1.0   \n",
       "15    upper class      0.762798                0.0   after 2015      1.0   \n",
       "16    upper class      0.796175                1.0  before 2015      1.0   \n",
       "17        poverty           NaN                0.0  before 2015      1.0   \n",
       "18    upper class      0.680594                1.0  before 2015      0.0   \n",
       "19  working class      0.417714                1.0  before 2015      0.0   \n",
       "\n",
       "    CHILDREN  POSTAL_CODE  ANNUAL_MILEAGE VEHICLE_TYPE  SPEEDING_VIOLATIONS  \\\n",
       "0        1.0        10238         12000.0        sedan                    0   \n",
       "1        0.0        10238         16000.0        sedan                    0   \n",
       "2        0.0        10238         11000.0        sedan                    0   \n",
       "3        1.0        32765         11000.0        sedan                    0   \n",
       "4        0.0        32765         12000.0        sedan                    2   \n",
       "5        1.0        10238         13000.0        sedan                    3   \n",
       "6        1.0        10238         13000.0        sedan                    7   \n",
       "7        1.0        10238         14000.0        sedan                    0   \n",
       "8        0.0        10238         13000.0        sedan                    0   \n",
       "9        1.0        32765         11000.0        sedan                    0   \n",
       "10       1.0        10238         10000.0        sedan                    6   \n",
       "11       0.0        32765         12000.0        sedan                    4   \n",
       "12       1.0        10238          8000.0        sedan                    4   \n",
       "13       1.0        10238             NaN        sedan                    0   \n",
       "14       1.0        10238         12000.0        sedan                    0   \n",
       "15       0.0        10238             NaN        sedan                    0   \n",
       "16       1.0        32765             NaN        sedan                   10   \n",
       "17       0.0        32765         12000.0        sedan                    0   \n",
       "18       1.0        32765             NaN        sedan                    0   \n",
       "19       1.0        10238         18000.0        sedan                    0   \n",
       "\n",
       "    DUIS  PAST_ACCIDENTS  OUTCOME  \n",
       "0      0               0      0.0  \n",
       "1      0               0      1.0  \n",
       "2      0               0      0.0  \n",
       "3      0               0      0.0  \n",
       "4      0               1      1.0  \n",
       "5      0               3      0.0  \n",
       "6      0               3      0.0  \n",
       "7      0               0      1.0  \n",
       "8      0               0      0.0  \n",
       "9      0               0      1.0  \n",
       "10     2               7      0.0  \n",
       "11     0               0      0.0  \n",
       "12     1               2      0.0  \n",
       "13     0               0      0.0  \n",
       "14     2               1      0.0  \n",
       "15     0               0      0.0  \n",
       "16     2               1      0.0  \n",
       "17     0               0      1.0  \n",
       "18     0               0      1.0  \n",
       "19     0               0      1.0  "
      ]
     },
     "execution_count": 7,
     "metadata": {},
     "output_type": "execute_result"
    }
   ],
   "source": [
    "coches.head(20)"
   ]
  },
  {
   "cell_type": "markdown",
   "id": "a531fa4e",
   "metadata": {},
   "source": [
    "<div class=\"alert alert-block alert-info\">\n",
    "    <h3>First observations</h3>\n",
    "    - The column AGE shoud be a numeric discrete value, but actually is a object, because it is defining a period of time.<br>\n",
    "    - The GENDER could be simplified to true - false.<br>\n",
    "    - The RACE can be simplifoed to a numeric value.<br>\n",
    "    - DRIVING_EXPERIENCE have the same problem as AGE.<br>\n",
    "    - EDUCATION and INCOME can be codified like categorical data.<br>\n",
    "    - VEHICLE_YEAR looks like have only befor/after 2015.<br>\n",
    "    - POSTAL_CODE is categorical data and can be codified.<br>\n",
    "</div>"
   ]
  },
  {
   "cell_type": "markdown",
   "id": "9c24e30f",
   "metadata": {},
   "source": [
    "### 0.4  Observations on a *pairplot*\n",
    "A pairplot is extremely usefull to notice the most obvious caracteristics of the data"
   ]
  },
  {
   "cell_type": "code",
   "execution_count": 8,
   "id": "0686beb8",
   "metadata": {},
   "outputs": [],
   "source": [
    "#sns.pairplot(data=coches,hue=\"OUTCOME\")"
   ]
  },
  {
   "cell_type": "markdown",
   "id": "7a3c02be",
   "metadata": {},
   "source": [
    "<div class=\"alert alert-block alert-info\">\n",
    "    <h3>Conclusions of the pairplot</h3>\n",
    "    - Most of the categorical data has been detected as numerical due a bad declaration, this must be fixed.\n",
    "    - Some numerical columns dor appear (AGE or  DRIVING_EXPERIENCE) because bad declaration.\n",
    "</div>"
   ]
  },
  {
   "cell_type": "markdown",
   "id": "5b992f6c",
   "metadata": {},
   "source": [
    "## 1. Data cleaning and orgianzation\n",
    "Every freature will be analize to ensure data consistency.\n",
    "### 1.1 AGE encoding\n",
    "1. We discover the number or classes of the age ranges.\n",
    "2. Age ranges are encoded into categorical-ordinal data."
   ]
  },
  {
   "cell_type": "code",
   "execution_count": 9,
   "id": "2af6521d",
   "metadata": {},
   "outputs": [
    {
     "data": {
      "text/plain": [
       "array(['65+', '16-25', '26-39', '40-64'], dtype=object)"
      ]
     },
     "execution_count": 9,
     "metadata": {},
     "output_type": "execute_result"
    }
   ],
   "source": [
    "coches[\"AGE\"].unique()"
   ]
  },
  {
   "cell_type": "markdown",
   "id": "3b307fe3",
   "metadata": {},
   "source": [
    "<div class=\"alert alert-block alert-info\">\n",
    "4 age ranges were found, which means we are going to create 4 categorical classes to organize the data.\n",
    "</div>"
   ]
  },
  {
   "cell_type": "code",
   "execution_count": 10,
   "id": "06d1d9fb",
   "metadata": {},
   "outputs": [
    {
     "data": {
      "text/html": [
       "<div>\n",
       "<style scoped>\n",
       "    .dataframe tbody tr th:only-of-type {\n",
       "        vertical-align: middle;\n",
       "    }\n",
       "\n",
       "    .dataframe tbody tr th {\n",
       "        vertical-align: top;\n",
       "    }\n",
       "\n",
       "    .dataframe thead th {\n",
       "        text-align: right;\n",
       "    }\n",
       "</style>\n",
       "<table border=\"1\" class=\"dataframe\">\n",
       "  <thead>\n",
       "    <tr style=\"text-align: right;\">\n",
       "      <th></th>\n",
       "      <th>ID</th>\n",
       "      <th>AGE</th>\n",
       "      <th>GENDER</th>\n",
       "      <th>RACE</th>\n",
       "      <th>DRIVING_EXPERIENCE</th>\n",
       "      <th>EDUCATION</th>\n",
       "      <th>INCOME</th>\n",
       "      <th>CREDIT_SCORE</th>\n",
       "      <th>VEHICLE_OWNERSHIP</th>\n",
       "      <th>VEHICLE_YEAR</th>\n",
       "      <th>MARRIED</th>\n",
       "      <th>CHILDREN</th>\n",
       "      <th>POSTAL_CODE</th>\n",
       "      <th>ANNUAL_MILEAGE</th>\n",
       "      <th>VEHICLE_TYPE</th>\n",
       "      <th>SPEEDING_VIOLATIONS</th>\n",
       "      <th>DUIS</th>\n",
       "      <th>PAST_ACCIDENTS</th>\n",
       "      <th>OUTCOME</th>\n",
       "    </tr>\n",
       "  </thead>\n",
       "  <tbody>\n",
       "    <tr>\n",
       "      <th>0</th>\n",
       "      <td>569520</td>\n",
       "      <td>65+</td>\n",
       "      <td>female</td>\n",
       "      <td>majority</td>\n",
       "      <td>0-9y</td>\n",
       "      <td>high school</td>\n",
       "      <td>upper class</td>\n",
       "      <td>0.629027</td>\n",
       "      <td>1.0</td>\n",
       "      <td>after 2015</td>\n",
       "      <td>0.0</td>\n",
       "      <td>1.0</td>\n",
       "      <td>10238</td>\n",
       "      <td>12000.0</td>\n",
       "      <td>sedan</td>\n",
       "      <td>0</td>\n",
       "      <td>0</td>\n",
       "      <td>0</td>\n",
       "      <td>0.0</td>\n",
       "    </tr>\n",
       "    <tr>\n",
       "      <th>1</th>\n",
       "      <td>750365</td>\n",
       "      <td>16-25</td>\n",
       "      <td>male</td>\n",
       "      <td>majority</td>\n",
       "      <td>0-9y</td>\n",
       "      <td>none</td>\n",
       "      <td>poverty</td>\n",
       "      <td>0.357757</td>\n",
       "      <td>0.0</td>\n",
       "      <td>before 2015</td>\n",
       "      <td>0.0</td>\n",
       "      <td>0.0</td>\n",
       "      <td>10238</td>\n",
       "      <td>16000.0</td>\n",
       "      <td>sedan</td>\n",
       "      <td>0</td>\n",
       "      <td>0</td>\n",
       "      <td>0</td>\n",
       "      <td>1.0</td>\n",
       "    </tr>\n",
       "    <tr>\n",
       "      <th>2</th>\n",
       "      <td>199901</td>\n",
       "      <td>16-25</td>\n",
       "      <td>female</td>\n",
       "      <td>majority</td>\n",
       "      <td>0-9y</td>\n",
       "      <td>high school</td>\n",
       "      <td>working class</td>\n",
       "      <td>0.493146</td>\n",
       "      <td>1.0</td>\n",
       "      <td>before 2015</td>\n",
       "      <td>0.0</td>\n",
       "      <td>0.0</td>\n",
       "      <td>10238</td>\n",
       "      <td>11000.0</td>\n",
       "      <td>sedan</td>\n",
       "      <td>0</td>\n",
       "      <td>0</td>\n",
       "      <td>0</td>\n",
       "      <td>0.0</td>\n",
       "    </tr>\n",
       "    <tr>\n",
       "      <th>3</th>\n",
       "      <td>478866</td>\n",
       "      <td>16-25</td>\n",
       "      <td>male</td>\n",
       "      <td>majority</td>\n",
       "      <td>0-9y</td>\n",
       "      <td>university</td>\n",
       "      <td>working class</td>\n",
       "      <td>0.206013</td>\n",
       "      <td>1.0</td>\n",
       "      <td>before 2015</td>\n",
       "      <td>0.0</td>\n",
       "      <td>1.0</td>\n",
       "      <td>32765</td>\n",
       "      <td>11000.0</td>\n",
       "      <td>sedan</td>\n",
       "      <td>0</td>\n",
       "      <td>0</td>\n",
       "      <td>0</td>\n",
       "      <td>0.0</td>\n",
       "    </tr>\n",
       "    <tr>\n",
       "      <th>4</th>\n",
       "      <td>731664</td>\n",
       "      <td>26-39</td>\n",
       "      <td>male</td>\n",
       "      <td>majority</td>\n",
       "      <td>10-19y</td>\n",
       "      <td>none</td>\n",
       "      <td>working class</td>\n",
       "      <td>0.388366</td>\n",
       "      <td>1.0</td>\n",
       "      <td>before 2015</td>\n",
       "      <td>0.0</td>\n",
       "      <td>0.0</td>\n",
       "      <td>32765</td>\n",
       "      <td>12000.0</td>\n",
       "      <td>sedan</td>\n",
       "      <td>2</td>\n",
       "      <td>0</td>\n",
       "      <td>1</td>\n",
       "      <td>1.0</td>\n",
       "    </tr>\n",
       "    <tr>\n",
       "      <th>5</th>\n",
       "      <td>877557</td>\n",
       "      <td>40-64</td>\n",
       "      <td>female</td>\n",
       "      <td>majority</td>\n",
       "      <td>20-29y</td>\n",
       "      <td>high school</td>\n",
       "      <td>upper class</td>\n",
       "      <td>0.619127</td>\n",
       "      <td>1.0</td>\n",
       "      <td>after 2015</td>\n",
       "      <td>0.0</td>\n",
       "      <td>1.0</td>\n",
       "      <td>10238</td>\n",
       "      <td>13000.0</td>\n",
       "      <td>sedan</td>\n",
       "      <td>3</td>\n",
       "      <td>0</td>\n",
       "      <td>3</td>\n",
       "      <td>0.0</td>\n",
       "    </tr>\n",
       "    <tr>\n",
       "      <th>6</th>\n",
       "      <td>930134</td>\n",
       "      <td>65+</td>\n",
       "      <td>male</td>\n",
       "      <td>majority</td>\n",
       "      <td>30y+</td>\n",
       "      <td>high school</td>\n",
       "      <td>upper class</td>\n",
       "      <td>0.492944</td>\n",
       "      <td>0.0</td>\n",
       "      <td>after 2015</td>\n",
       "      <td>1.0</td>\n",
       "      <td>1.0</td>\n",
       "      <td>10238</td>\n",
       "      <td>13000.0</td>\n",
       "      <td>sedan</td>\n",
       "      <td>7</td>\n",
       "      <td>0</td>\n",
       "      <td>3</td>\n",
       "      <td>0.0</td>\n",
       "    </tr>\n",
       "    <tr>\n",
       "      <th>7</th>\n",
       "      <td>461006</td>\n",
       "      <td>26-39</td>\n",
       "      <td>female</td>\n",
       "      <td>majority</td>\n",
       "      <td>0-9y</td>\n",
       "      <td>university</td>\n",
       "      <td>working class</td>\n",
       "      <td>0.468689</td>\n",
       "      <td>0.0</td>\n",
       "      <td>after 2015</td>\n",
       "      <td>0.0</td>\n",
       "      <td>1.0</td>\n",
       "      <td>10238</td>\n",
       "      <td>14000.0</td>\n",
       "      <td>sedan</td>\n",
       "      <td>0</td>\n",
       "      <td>0</td>\n",
       "      <td>0</td>\n",
       "      <td>1.0</td>\n",
       "    </tr>\n",
       "    <tr>\n",
       "      <th>8</th>\n",
       "      <td>68366</td>\n",
       "      <td>40-64</td>\n",
       "      <td>female</td>\n",
       "      <td>majority</td>\n",
       "      <td>20-29y</td>\n",
       "      <td>university</td>\n",
       "      <td>working class</td>\n",
       "      <td>0.521815</td>\n",
       "      <td>0.0</td>\n",
       "      <td>before 2015</td>\n",
       "      <td>1.0</td>\n",
       "      <td>0.0</td>\n",
       "      <td>10238</td>\n",
       "      <td>13000.0</td>\n",
       "      <td>sedan</td>\n",
       "      <td>0</td>\n",
       "      <td>0</td>\n",
       "      <td>0</td>\n",
       "      <td>0.0</td>\n",
       "    </tr>\n",
       "    <tr>\n",
       "      <th>9</th>\n",
       "      <td>445911</td>\n",
       "      <td>40-64</td>\n",
       "      <td>female</td>\n",
       "      <td>majority</td>\n",
       "      <td>0-9y</td>\n",
       "      <td>high school</td>\n",
       "      <td>upper class</td>\n",
       "      <td>0.561531</td>\n",
       "      <td>1.0</td>\n",
       "      <td>before 2015</td>\n",
       "      <td>0.0</td>\n",
       "      <td>1.0</td>\n",
       "      <td>32765</td>\n",
       "      <td>11000.0</td>\n",
       "      <td>sedan</td>\n",
       "      <td>0</td>\n",
       "      <td>0</td>\n",
       "      <td>0</td>\n",
       "      <td>1.0</td>\n",
       "    </tr>\n",
       "  </tbody>\n",
       "</table>\n",
       "</div>"
      ],
      "text/plain": [
       "       ID    AGE  GENDER      RACE DRIVING_EXPERIENCE    EDUCATION  \\\n",
       "0  569520    65+  female  majority               0-9y  high school   \n",
       "1  750365  16-25    male  majority               0-9y         none   \n",
       "2  199901  16-25  female  majority               0-9y  high school   \n",
       "3  478866  16-25    male  majority               0-9y   university   \n",
       "4  731664  26-39    male  majority             10-19y         none   \n",
       "5  877557  40-64  female  majority             20-29y  high school   \n",
       "6  930134    65+    male  majority               30y+  high school   \n",
       "7  461006  26-39  female  majority               0-9y   university   \n",
       "8   68366  40-64  female  majority             20-29y   university   \n",
       "9  445911  40-64  female  majority               0-9y  high school   \n",
       "\n",
       "          INCOME  CREDIT_SCORE  VEHICLE_OWNERSHIP VEHICLE_YEAR  MARRIED  \\\n",
       "0    upper class      0.629027                1.0   after 2015      0.0   \n",
       "1        poverty      0.357757                0.0  before 2015      0.0   \n",
       "2  working class      0.493146                1.0  before 2015      0.0   \n",
       "3  working class      0.206013                1.0  before 2015      0.0   \n",
       "4  working class      0.388366                1.0  before 2015      0.0   \n",
       "5    upper class      0.619127                1.0   after 2015      0.0   \n",
       "6    upper class      0.492944                0.0   after 2015      1.0   \n",
       "7  working class      0.468689                0.0   after 2015      0.0   \n",
       "8  working class      0.521815                0.0  before 2015      1.0   \n",
       "9    upper class      0.561531                1.0  before 2015      0.0   \n",
       "\n",
       "   CHILDREN  POSTAL_CODE  ANNUAL_MILEAGE VEHICLE_TYPE  SPEEDING_VIOLATIONS  \\\n",
       "0       1.0        10238         12000.0        sedan                    0   \n",
       "1       0.0        10238         16000.0        sedan                    0   \n",
       "2       0.0        10238         11000.0        sedan                    0   \n",
       "3       1.0        32765         11000.0        sedan                    0   \n",
       "4       0.0        32765         12000.0        sedan                    2   \n",
       "5       1.0        10238         13000.0        sedan                    3   \n",
       "6       1.0        10238         13000.0        sedan                    7   \n",
       "7       1.0        10238         14000.0        sedan                    0   \n",
       "8       0.0        10238         13000.0        sedan                    0   \n",
       "9       1.0        32765         11000.0        sedan                    0   \n",
       "\n",
       "   DUIS  PAST_ACCIDENTS  OUTCOME  \n",
       "0     0               0      0.0  \n",
       "1     0               0      1.0  \n",
       "2     0               0      0.0  \n",
       "3     0               0      0.0  \n",
       "4     0               1      1.0  \n",
       "5     0               3      0.0  \n",
       "6     0               3      0.0  \n",
       "7     0               0      1.0  \n",
       "8     0               0      0.0  \n",
       "9     0               0      1.0  "
      ]
     },
     "execution_count": 10,
     "metadata": {},
     "output_type": "execute_result"
    }
   ],
   "source": [
    "# From now the modified dataframe will be cdf, so we can make comparations between the cleand dataset and the raw one\n",
    "cdf = coches\n",
    "\n",
    "cdf['AGE'] = pd.Categorical(\n",
    "    cdf['AGE'],\n",
    "    categories=['16-25','26-39','40-64','65+'],\n",
    "    ordered=True\n",
    ")\n",
    "\n",
    "cdf.head(10)"
   ]
  },
  {
   "cell_type": "code",
   "execution_count": 11,
   "id": "c7ec9a7d",
   "metadata": {},
   "outputs": [
    {
     "data": {
      "text/plain": [
       "<seaborn.axisgrid.FacetGrid at 0x2402ff79670>"
      ]
     },
     "execution_count": 11,
     "metadata": {},
     "output_type": "execute_result"
    },
    {
     "data": {
      "image/png": "[encoded data removed]",
      "text/plain": [
       "<Figure size 360x360 with 1 Axes>"
      ]
     },
     "metadata": {
      "needs_background": "light"
     },
     "output_type": "display_data"
    }
   ],
   "source": [
    "sns.displot(cdf['AGE'])"
   ]
  },
  {
   "cell_type": "code",
   "execution_count": 12,
   "id": "24c324ae",
   "metadata": {},
   "outputs": [
    {
     "name": "stdout",
     "output_type": "stream",
     "text": [
      "<class 'pandas.core.frame.DataFrame'>\n",
      "RangeIndex: 10000 entries, 0 to 9999\n",
      "Data columns (total 19 columns):\n",
      " #   Column               Non-Null Count  Dtype   \n",
      "---  ------               --------------  -----   \n",
      " 0   ID                   10000 non-null  int64   \n",
      " 1   AGE                  10000 non-null  category\n",
      " 2   GENDER               10000 non-null  object  \n",
      " 3   RACE                 10000 non-null  object  \n",
      " 4   DRIVING_EXPERIENCE   10000 non-null  object  \n",
      " 5   EDUCATION            10000 non-null  object  \n",
      " 6   INCOME               10000 non-null  object  \n",
      " 7   CREDIT_SCORE         9018 non-null   float64 \n",
      " 8   VEHICLE_OWNERSHIP    10000 non-null  float64 \n",
      " 9   VEHICLE_YEAR         10000 non-null  object  \n",
      " 10  MARRIED              10000 non-null  float64 \n",
      " 11  CHILDREN             10000 non-null  float64 \n",
      " 12  POSTAL_CODE          10000 non-null  int64   \n",
      " 13  ANNUAL_MILEAGE       9043 non-null   float64 \n",
      " 14  VEHICLE_TYPE         10000 non-null  object  \n",
      " 15  SPEEDING_VIOLATIONS  10000 non-null  int64   \n",
      " 16  DUIS                 10000 non-null  int64   \n",
      " 17  PAST_ACCIDENTS       10000 non-null  int64   \n",
      " 18  OUTCOME              10000 non-null  float64 \n",
      "dtypes: category(1), float64(6), int64(5), object(7)\n",
      "memory usage: 1.4+ MB\n"
     ]
    }
   ],
   "source": [
    "cdf.info()"
   ]
  },
  {
   "cell_type": "markdown",
   "id": "b5cdc5c5",
   "metadata": {},
   "source": [
    "<div class=\"alert alert-block alert-info\">\n",
    "Once clasified as categorical/ordinal we can see the distribution ordered by age range, and now Pandas \"knows\" AGE is a category, not a object.\n",
    "</div>"
   ]
  },
  {
   "cell_type": "markdown",
   "id": "efb2d1d0",
   "metadata": {},
   "source": [
    "### 1.2 GENDER encoding\n",
    "To save space GENDER will be converted into m/f values."
   ]
  },
  {
   "cell_type": "code",
   "execution_count": 13,
   "id": "e1fc7430",
   "metadata": {},
   "outputs": [
    {
     "data": {
      "text/plain": [
       "array(['female', 'male'], dtype=object)"
      ]
     },
     "execution_count": 13,
     "metadata": {},
     "output_type": "execute_result"
    }
   ],
   "source": [
    "coches[\"GENDER\"].unique()"
   ]
  },
  {
   "cell_type": "markdown",
   "id": "3ebfc0da",
   "metadata": {},
   "source": [
    "<div class=\"alert alert-block alert-info\">\n",
    "We confirm there are only 2 vaues.\n",
    "</div>"
   ]
  },
  {
   "cell_type": "code",
   "execution_count": 14,
   "id": "d317376d",
   "metadata": {},
   "outputs": [],
   "source": [
    "cdf[\"GENDER\"]=cdf[\"GENDER\"].replace({'female':'f','male':'m'})"
   ]
  },
  {
   "cell_type": "code",
   "execution_count": 15,
   "id": "ddea12da",
   "metadata": {},
   "outputs": [
    {
     "data": {
      "text/plain": [
       "<seaborn.axisgrid.FacetGrid at 0x2402ffc6640>"
      ]
     },
     "execution_count": 15,
     "metadata": {},
     "output_type": "execute_result"
    },
    {
     "data": {
      "image/png": "[encoded data removed]",
      "text/plain": [
       "<Figure size 360x360 with 1 Axes>"
      ]
     },
     "metadata": {
      "needs_background": "light"
     },
     "output_type": "display_data"
    }
   ],
   "source": [
    "sns.displot(cdf[\"GENDER\"])"
   ]
  },
  {
   "cell_type": "code",
   "execution_count": 16,
   "id": "a4e8ad7e",
   "metadata": {},
   "outputs": [
    {
     "data": {
      "text/html": [
       "<div>\n",
       "<style scoped>\n",
       "    .dataframe tbody tr th:only-of-type {\n",
       "        vertical-align: middle;\n",
       "    }\n",
       "\n",
       "    .dataframe tbody tr th {\n",
       "        vertical-align: top;\n",
       "    }\n",
       "\n",
       "    .dataframe thead th {\n",
       "        text-align: right;\n",
       "    }\n",
       "</style>\n",
       "<table border=\"1\" class=\"dataframe\">\n",
       "  <thead>\n",
       "    <tr style=\"text-align: right;\">\n",
       "      <th></th>\n",
       "      <th>ID</th>\n",
       "      <th>AGE</th>\n",
       "      <th>GENDER</th>\n",
       "      <th>RACE</th>\n",
       "      <th>DRIVING_EXPERIENCE</th>\n",
       "      <th>EDUCATION</th>\n",
       "      <th>INCOME</th>\n",
       "      <th>CREDIT_SCORE</th>\n",
       "      <th>VEHICLE_OWNERSHIP</th>\n",
       "      <th>VEHICLE_YEAR</th>\n",
       "      <th>MARRIED</th>\n",
       "      <th>CHILDREN</th>\n",
       "      <th>POSTAL_CODE</th>\n",
       "      <th>ANNUAL_MILEAGE</th>\n",
       "      <th>VEHICLE_TYPE</th>\n",
       "      <th>SPEEDING_VIOLATIONS</th>\n",
       "      <th>DUIS</th>\n",
       "      <th>PAST_ACCIDENTS</th>\n",
       "      <th>OUTCOME</th>\n",
       "    </tr>\n",
       "  </thead>\n",
       "  <tbody>\n",
       "    <tr>\n",
       "      <th>0</th>\n",
       "      <td>569520</td>\n",
       "      <td>65+</td>\n",
       "      <td>f</td>\n",
       "      <td>majority</td>\n",
       "      <td>0-9y</td>\n",
       "      <td>high school</td>\n",
       "      <td>upper class</td>\n",
       "      <td>0.629027</td>\n",
       "      <td>1.0</td>\n",
       "      <td>after 2015</td>\n",
       "      <td>0.0</td>\n",
       "      <td>1.0</td>\n",
       "      <td>10238</td>\n",
       "      <td>12000.0</td>\n",
       "      <td>sedan</td>\n",
       "      <td>0</td>\n",
       "      <td>0</td>\n",
       "      <td>0</td>\n",
       "      <td>0.0</td>\n",
       "    </tr>\n",
       "    <tr>\n",
       "      <th>1</th>\n",
       "      <td>750365</td>\n",
       "      <td>16-25</td>\n",
       "      <td>m</td>\n",
       "      <td>majority</td>\n",
       "      <td>0-9y</td>\n",
       "      <td>none</td>\n",
       "      <td>poverty</td>\n",
       "      <td>0.357757</td>\n",
       "      <td>0.0</td>\n",
       "      <td>before 2015</td>\n",
       "      <td>0.0</td>\n",
       "      <td>0.0</td>\n",
       "      <td>10238</td>\n",
       "      <td>16000.0</td>\n",
       "      <td>sedan</td>\n",
       "      <td>0</td>\n",
       "      <td>0</td>\n",
       "      <td>0</td>\n",
       "      <td>1.0</td>\n",
       "    </tr>\n",
       "    <tr>\n",
       "      <th>2</th>\n",
       "      <td>199901</td>\n",
       "      <td>16-25</td>\n",
       "      <td>f</td>\n",
       "      <td>majority</td>\n",
       "      <td>0-9y</td>\n",
       "      <td>high school</td>\n",
       "      <td>working class</td>\n",
       "      <td>0.493146</td>\n",
       "      <td>1.0</td>\n",
       "      <td>before 2015</td>\n",
       "      <td>0.0</td>\n",
       "      <td>0.0</td>\n",
       "      <td>10238</td>\n",
       "      <td>11000.0</td>\n",
       "      <td>sedan</td>\n",
       "      <td>0</td>\n",
       "      <td>0</td>\n",
       "      <td>0</td>\n",
       "      <td>0.0</td>\n",
       "    </tr>\n",
       "    <tr>\n",
       "      <th>3</th>\n",
       "      <td>478866</td>\n",
       "      <td>16-25</td>\n",
       "      <td>m</td>\n",
       "      <td>majority</td>\n",
       "      <td>0-9y</td>\n",
       "      <td>university</td>\n",
       "      <td>working class</td>\n",
       "      <td>0.206013</td>\n",
       "      <td>1.0</td>\n",
       "      <td>before 2015</td>\n",
       "      <td>0.0</td>\n",
       "      <td>1.0</td>\n",
       "      <td>32765</td>\n",
       "      <td>11000.0</td>\n",
       "      <td>sedan</td>\n",
       "      <td>0</td>\n",
       "      <td>0</td>\n",
       "      <td>0</td>\n",
       "      <td>0.0</td>\n",
       "    </tr>\n",
       "    <tr>\n",
       "      <th>4</th>\n",
       "      <td>731664</td>\n",
       "      <td>26-39</td>\n",
       "      <td>m</td>\n",
       "      <td>majority</td>\n",
       "      <td>10-19y</td>\n",
       "      <td>none</td>\n",
       "      <td>working class</td>\n",
       "      <td>0.388366</td>\n",
       "      <td>1.0</td>\n",
       "      <td>before 2015</td>\n",
       "      <td>0.0</td>\n",
       "      <td>0.0</td>\n",
       "      <td>32765</td>\n",
       "      <td>12000.0</td>\n",
       "      <td>sedan</td>\n",
       "      <td>2</td>\n",
       "      <td>0</td>\n",
       "      <td>1</td>\n",
       "      <td>1.0</td>\n",
       "    </tr>\n",
       "    <tr>\n",
       "      <th>5</th>\n",
       "      <td>877557</td>\n",
       "      <td>40-64</td>\n",
       "      <td>f</td>\n",
       "      <td>majority</td>\n",
       "      <td>20-29y</td>\n",
       "      <td>high school</td>\n",
       "      <td>upper class</td>\n",
       "      <td>0.619127</td>\n",
       "      <td>1.0</td>\n",
       "      <td>after 2015</td>\n",
       "      <td>0.0</td>\n",
       "      <td>1.0</td>\n",
       "      <td>10238</td>\n",
       "      <td>13000.0</td>\n",
       "      <td>sedan</td>\n",
       "      <td>3</td>\n",
       "      <td>0</td>\n",
       "      <td>3</td>\n",
       "      <td>0.0</td>\n",
       "    </tr>\n",
       "    <tr>\n",
       "      <th>6</th>\n",
       "      <td>930134</td>\n",
       "      <td>65+</td>\n",
       "      <td>m</td>\n",
       "      <td>majority</td>\n",
       "      <td>30y+</td>\n",
       "      <td>high school</td>\n",
       "      <td>upper class</td>\n",
       "      <td>0.492944</td>\n",
       "      <td>0.0</td>\n",
       "      <td>after 2015</td>\n",
       "      <td>1.0</td>\n",
       "      <td>1.0</td>\n",
       "      <td>10238</td>\n",
       "      <td>13000.0</td>\n",
       "      <td>sedan</td>\n",
       "      <td>7</td>\n",
       "      <td>0</td>\n",
       "      <td>3</td>\n",
       "      <td>0.0</td>\n",
       "    </tr>\n",
       "    <tr>\n",
       "      <th>7</th>\n",
       "      <td>461006</td>\n",
       "      <td>26-39</td>\n",
       "      <td>f</td>\n",
       "      <td>majority</td>\n",
       "      <td>0-9y</td>\n",
       "      <td>university</td>\n",
       "      <td>working class</td>\n",
       "      <td>0.468689</td>\n",
       "      <td>0.0</td>\n",
       "      <td>after 2015</td>\n",
       "      <td>0.0</td>\n",
       "      <td>1.0</td>\n",
       "      <td>10238</td>\n",
       "      <td>14000.0</td>\n",
       "      <td>sedan</td>\n",
       "      <td>0</td>\n",
       "      <td>0</td>\n",
       "      <td>0</td>\n",
       "      <td>1.0</td>\n",
       "    </tr>\n",
       "    <tr>\n",
       "      <th>8</th>\n",
       "      <td>68366</td>\n",
       "      <td>40-64</td>\n",
       "      <td>f</td>\n",
       "      <td>majority</td>\n",
       "      <td>20-29y</td>\n",
       "      <td>university</td>\n",
       "      <td>working class</td>\n",
       "      <td>0.521815</td>\n",
       "      <td>0.0</td>\n",
       "      <td>before 2015</td>\n",
       "      <td>1.0</td>\n",
       "      <td>0.0</td>\n",
       "      <td>10238</td>\n",
       "      <td>13000.0</td>\n",
       "      <td>sedan</td>\n",
       "      <td>0</td>\n",
       "      <td>0</td>\n",
       "      <td>0</td>\n",
       "      <td>0.0</td>\n",
       "    </tr>\n",
       "    <tr>\n",
       "      <th>9</th>\n",
       "      <td>445911</td>\n",
       "      <td>40-64</td>\n",
       "      <td>f</td>\n",
       "      <td>majority</td>\n",
       "      <td>0-9y</td>\n",
       "      <td>high school</td>\n",
       "      <td>upper class</td>\n",
       "      <td>0.561531</td>\n",
       "      <td>1.0</td>\n",
       "      <td>before 2015</td>\n",
       "      <td>0.0</td>\n",
       "      <td>1.0</td>\n",
       "      <td>32765</td>\n",
       "      <td>11000.0</td>\n",
       "      <td>sedan</td>\n",
       "      <td>0</td>\n",
       "      <td>0</td>\n",
       "      <td>0</td>\n",
       "      <td>1.0</td>\n",
       "    </tr>\n",
       "  </tbody>\n",
       "</table>\n",
       "</div>"
      ],
      "text/plain": [
       "       ID    AGE GENDER      RACE DRIVING_EXPERIENCE    EDUCATION  \\\n",
       "0  569520    65+      f  majority               0-9y  high school   \n",
       "1  750365  16-25      m  majority               0-9y         none   \n",
       "2  199901  16-25      f  majority               0-9y  high school   \n",
       "3  478866  16-25      m  majority               0-9y   university   \n",
       "4  731664  26-39      m  majority             10-19y         none   \n",
       "5  877557  40-64      f  majority             20-29y  high school   \n",
       "6  930134    65+      m  majority               30y+  high school   \n",
       "7  461006  26-39      f  majority               0-9y   university   \n",
       "8   68366  40-64      f  majority             20-29y   university   \n",
       "9  445911  40-64      f  majority               0-9y  high school   \n",
       "\n",
       "          INCOME  CREDIT_SCORE  VEHICLE_OWNERSHIP VEHICLE_YEAR  MARRIED  \\\n",
       "0    upper class      0.629027                1.0   after 2015      0.0   \n",
       "1        poverty      0.357757                0.0  before 2015      0.0   \n",
       "2  working class      0.493146                1.0  before 2015      0.0   \n",
       "3  working class      0.206013                1.0  before 2015      0.0   \n",
       "4  working class      0.388366                1.0  before 2015      0.0   \n",
       "5    upper class      0.619127                1.0   after 2015      0.0   \n",
       "6    upper class      0.492944                0.0   after 2015      1.0   \n",
       "7  working class      0.468689                0.0   after 2015      0.0   \n",
       "8  working class      0.521815                0.0  before 2015      1.0   \n",
       "9    upper class      0.561531                1.0  before 2015      0.0   \n",
       "\n",
       "   CHILDREN  POSTAL_CODE  ANNUAL_MILEAGE VEHICLE_TYPE  SPEEDING_VIOLATIONS  \\\n",
       "0       1.0        10238         12000.0        sedan                    0   \n",
       "1       0.0        10238         16000.0        sedan                    0   \n",
       "2       0.0        10238         11000.0        sedan                    0   \n",
       "3       1.0        32765         11000.0        sedan                    0   \n",
       "4       0.0        32765         12000.0        sedan                    2   \n",
       "5       1.0        10238         13000.0        sedan                    3   \n",
       "6       1.0        10238         13000.0        sedan                    7   \n",
       "7       1.0        10238         14000.0        sedan                    0   \n",
       "8       0.0        10238         13000.0        sedan                    0   \n",
       "9       1.0        32765         11000.0        sedan                    0   \n",
       "\n",
       "   DUIS  PAST_ACCIDENTS  OUTCOME  \n",
       "0     0               0      0.0  \n",
       "1     0               0      1.0  \n",
       "2     0               0      0.0  \n",
       "3     0               0      0.0  \n",
       "4     0               1      1.0  \n",
       "5     0               3      0.0  \n",
       "6     0               3      0.0  \n",
       "7     0               0      1.0  \n",
       "8     0               0      0.0  \n",
       "9     0               0      1.0  "
      ]
     },
     "execution_count": 16,
     "metadata": {},
     "output_type": "execute_result"
    }
   ],
   "source": [
    "cdf.head(10)"
   ]
  },
  {
   "cell_type": "markdown",
   "id": "ad1849d0",
   "metadata": {},
   "source": [
    "### 1.3 RACE encoding\n",
    "Similar transformation as GENDER"
   ]
  },
  {
   "cell_type": "code",
   "execution_count": 17,
   "id": "be7cea95",
   "metadata": {},
   "outputs": [
    {
     "data": {
      "text/plain": [
       "array(['majority', 'minority'], dtype=object)"
      ]
     },
     "execution_count": 17,
     "metadata": {},
     "output_type": "execute_result"
    }
   ],
   "source": [
    "coches[\"RACE\"].unique()"
   ]
  },
  {
   "cell_type": "markdown",
   "id": "e3685949",
   "metadata": {},
   "source": [
    "<div class=\"alert alert-block alert-info\">\n",
    "We discovered that there are only 2 values, which do not give any information from the label, but since the author of the dataset is from West Bengal, India, we have some extra information.\n",
    "</div>"
   ]
  },
  {
   "cell_type": "code",
   "execution_count": 18,
   "id": "db45e474",
   "metadata": {},
   "outputs": [
    {
     "data": {
      "text/plain": [
       "<seaborn.axisgrid.FacetGrid at 0x2403078bfa0>"
      ]
     },
     "execution_count": 18,
     "metadata": {},
     "output_type": "execute_result"
    },
    {
     "data": {
      "image/png": "[encoded data removed]",
      "text/plain": [
       "<Figure size 360x360 with 1 Axes>"
      ]
     },
     "metadata": {
      "needs_background": "light"
     },
     "output_type": "display_data"
    }
   ],
   "source": [
    "sns.displot(cdf['RACE'])"
   ]
  },
  {
   "cell_type": "markdown",
   "id": "e60a543f",
   "metadata": {},
   "source": [
    "### 1.4 DRIVING_EXPERIENCE encodign\n",
    "Similar transformation as AGE"
   ]
  },
  {
   "cell_type": "code",
   "execution_count": 19,
   "id": "f09deb83",
   "metadata": {},
   "outputs": [
    {
     "data": {
      "text/plain": [
       "array(['0-9y', '10-19y', '20-29y', '30y+'], dtype=object)"
      ]
     },
     "execution_count": 19,
     "metadata": {},
     "output_type": "execute_result"
    }
   ],
   "source": [
    "coches[\"DRIVING_EXPERIENCE\"].unique()"
   ]
  },
  {
   "cell_type": "code",
   "execution_count": 20,
   "id": "de080859",
   "metadata": {},
   "outputs": [
    {
     "name": "stdout",
     "output_type": "stream",
     "text": [
      "<class 'pandas.core.frame.DataFrame'>\n",
      "RangeIndex: 10000 entries, 0 to 9999\n",
      "Data columns (total 19 columns):\n",
      " #   Column               Non-Null Count  Dtype   \n",
      "---  ------               --------------  -----   \n",
      " 0   ID                   10000 non-null  int64   \n",
      " 1   AGE                  10000 non-null  category\n",
      " 2   GENDER               10000 non-null  object  \n",
      " 3   RACE                 10000 non-null  object  \n",
      " 4   DRIVING_EXPERIENCE   10000 non-null  category\n",
      " 5   EDUCATION            10000 non-null  object  \n",
      " 6   INCOME               10000 non-null  object  \n",
      " 7   CREDIT_SCORE         9018 non-null   float64 \n",
      " 8   VEHICLE_OWNERSHIP    10000 non-null  float64 \n",
      " 9   VEHICLE_YEAR         10000 non-null  object  \n",
      " 10  MARRIED              10000 non-null  float64 \n",
      " 11  CHILDREN             10000 non-null  float64 \n",
      " 12  POSTAL_CODE          10000 non-null  int64   \n",
      " 13  ANNUAL_MILEAGE       9043 non-null   float64 \n",
      " 14  VEHICLE_TYPE         10000 non-null  object  \n",
      " 15  SPEEDING_VIOLATIONS  10000 non-null  int64   \n",
      " 16  DUIS                 10000 non-null  int64   \n",
      " 17  PAST_ACCIDENTS       10000 non-null  int64   \n",
      " 18  OUTCOME              10000 non-null  float64 \n",
      "dtypes: category(2), float64(6), int64(5), object(6)\n",
      "memory usage: 1.3+ MB\n"
     ]
    }
   ],
   "source": [
    "cdf[\"DRIVING_EXPERIENCE\"] = pd.Categorical(\n",
    "    cdf[\"DRIVING_EXPERIENCE\"],\n",
    "    categories=['0-9y','10-19y','20-29y','30y+'],\n",
    "    ordered=True\n",
    ")\n",
    "cdf.info()"
   ]
  },
  {
   "cell_type": "code",
   "execution_count": 21,
   "id": "8c6bf3fe",
   "metadata": {},
   "outputs": [
    {
     "data": {
      "text/plain": [
       "<seaborn.axisgrid.FacetGrid at 0x240307ce520>"
      ]
     },
     "execution_count": 21,
     "metadata": {},
     "output_type": "execute_result"
    },
    {
     "data": {
      "image/png": "[encoded data removed]",
      "text/plain": [
       "<Figure size 360x360 with 1 Axes>"
      ]
     },
     "metadata": {
      "needs_background": "light"
     },
     "output_type": "display_data"
    }
   ],
   "source": [
    "sns.displot(cdf[\"DRIVING_EXPERIENCE\"])"
   ]
  },
  {
   "cell_type": "markdown",
   "id": "6472bd46",
   "metadata": {},
   "source": [
    "### 1.5 EDUCATION\n",
    "We are going to order the education depending on the level."
   ]
  },
  {
   "cell_type": "code",
   "execution_count": 22,
   "id": "8fdb4f93",
   "metadata": {},
   "outputs": [
    {
     "data": {
      "text/plain": [
       "array(['high school', 'none', 'university'], dtype=object)"
      ]
     },
     "execution_count": 22,
     "metadata": {},
     "output_type": "execute_result"
    }
   ],
   "source": [
    "coches[\"EDUCATION\"].unique()"
   ]
  },
  {
   "cell_type": "code",
   "execution_count": 23,
   "id": "86c27e7c",
   "metadata": {},
   "outputs": [
    {
     "name": "stdout",
     "output_type": "stream",
     "text": [
      "<class 'pandas.core.frame.DataFrame'>\n",
      "RangeIndex: 10000 entries, 0 to 9999\n",
      "Data columns (total 19 columns):\n",
      " #   Column               Non-Null Count  Dtype   \n",
      "---  ------               --------------  -----   \n",
      " 0   ID                   10000 non-null  int64   \n",
      " 1   AGE                  10000 non-null  category\n",
      " 2   GENDER               10000 non-null  object  \n",
      " 3   RACE                 10000 non-null  object  \n",
      " 4   DRIVING_EXPERIENCE   10000 non-null  category\n",
      " 5   EDUCATION            10000 non-null  category\n",
      " 6   INCOME               10000 non-null  object  \n",
      " 7   CREDIT_SCORE         9018 non-null   float64 \n",
      " 8   VEHICLE_OWNERSHIP    10000 non-null  float64 \n",
      " 9   VEHICLE_YEAR         10000 non-null  object  \n",
      " 10  MARRIED              10000 non-null  float64 \n",
      " 11  CHILDREN             10000 non-null  float64 \n",
      " 12  POSTAL_CODE          10000 non-null  int64   \n",
      " 13  ANNUAL_MILEAGE       9043 non-null   float64 \n",
      " 14  VEHICLE_TYPE         10000 non-null  object  \n",
      " 15  SPEEDING_VIOLATIONS  10000 non-null  int64   \n",
      " 16  DUIS                 10000 non-null  int64   \n",
      " 17  PAST_ACCIDENTS       10000 non-null  int64   \n",
      " 18  OUTCOME              10000 non-null  float64 \n",
      "dtypes: category(3), float64(6), int64(5), object(5)\n",
      "memory usage: 1.2+ MB\n"
     ]
    }
   ],
   "source": [
    "cdf[\"EDUCATION\"]=cdf[\"EDUCATION\"].replace({'none':'n','high school':'h','university':'u'})\n",
    "\n",
    "cdf[\"EDUCATION\"] = pd.Categorical(\n",
    "    cdf[\"EDUCATION\"],\n",
    "    categories=['n','h','u'],\n",
    "    ordered=True\n",
    ")\n",
    "cdf.info()"
   ]
  },
  {
   "cell_type": "code",
   "execution_count": 24,
   "id": "be1825f9",
   "metadata": {},
   "outputs": [
    {
     "data": {
      "text/html": [
       "<div>\n",
       "<style scoped>\n",
       "    .dataframe tbody tr th:only-of-type {\n",
       "        vertical-align: middle;\n",
       "    }\n",
       "\n",
       "    .dataframe tbody tr th {\n",
       "        vertical-align: top;\n",
       "    }\n",
       "\n",
       "    .dataframe thead th {\n",
       "        text-align: right;\n",
       "    }\n",
       "</style>\n",
       "<table border=\"1\" class=\"dataframe\">\n",
       "  <thead>\n",
       "    <tr style=\"text-align: right;\">\n",
       "      <th></th>\n",
       "      <th>ID</th>\n",
       "      <th>AGE</th>\n",
       "      <th>GENDER</th>\n",
       "      <th>RACE</th>\n",
       "      <th>DRIVING_EXPERIENCE</th>\n",
       "      <th>EDUCATION</th>\n",
       "      <th>INCOME</th>\n",
       "      <th>CREDIT_SCORE</th>\n",
       "      <th>VEHICLE_OWNERSHIP</th>\n",
       "      <th>VEHICLE_YEAR</th>\n",
       "      <th>MARRIED</th>\n",
       "      <th>CHILDREN</th>\n",
       "      <th>POSTAL_CODE</th>\n",
       "      <th>ANNUAL_MILEAGE</th>\n",
       "      <th>VEHICLE_TYPE</th>\n",
       "      <th>SPEEDING_VIOLATIONS</th>\n",
       "      <th>DUIS</th>\n",
       "      <th>PAST_ACCIDENTS</th>\n",
       "      <th>OUTCOME</th>\n",
       "    </tr>\n",
       "  </thead>\n",
       "  <tbody>\n",
       "    <tr>\n",
       "      <th>0</th>\n",
       "      <td>569520</td>\n",
       "      <td>65+</td>\n",
       "      <td>f</td>\n",
       "      <td>majority</td>\n",
       "      <td>0-9y</td>\n",
       "      <td>h</td>\n",
       "      <td>upper class</td>\n",
       "      <td>0.629027</td>\n",
       "      <td>1.0</td>\n",
       "      <td>after 2015</td>\n",
       "      <td>0.0</td>\n",
       "      <td>1.0</td>\n",
       "      <td>10238</td>\n",
       "      <td>12000.0</td>\n",
       "      <td>sedan</td>\n",
       "      <td>0</td>\n",
       "      <td>0</td>\n",
       "      <td>0</td>\n",
       "      <td>0.0</td>\n",
       "    </tr>\n",
       "    <tr>\n",
       "      <th>1</th>\n",
       "      <td>750365</td>\n",
       "      <td>16-25</td>\n",
       "      <td>m</td>\n",
       "      <td>majority</td>\n",
       "      <td>0-9y</td>\n",
       "      <td>n</td>\n",
       "      <td>poverty</td>\n",
       "      <td>0.357757</td>\n",
       "      <td>0.0</td>\n",
       "      <td>before 2015</td>\n",
       "      <td>0.0</td>\n",
       "      <td>0.0</td>\n",
       "      <td>10238</td>\n",
       "      <td>16000.0</td>\n",
       "      <td>sedan</td>\n",
       "      <td>0</td>\n",
       "      <td>0</td>\n",
       "      <td>0</td>\n",
       "      <td>1.0</td>\n",
       "    </tr>\n",
       "    <tr>\n",
       "      <th>2</th>\n",
       "      <td>199901</td>\n",
       "      <td>16-25</td>\n",
       "      <td>f</td>\n",
       "      <td>majority</td>\n",
       "      <td>0-9y</td>\n",
       "      <td>h</td>\n",
       "      <td>working class</td>\n",
       "      <td>0.493146</td>\n",
       "      <td>1.0</td>\n",
       "      <td>before 2015</td>\n",
       "      <td>0.0</td>\n",
       "      <td>0.0</td>\n",
       "      <td>10238</td>\n",
       "      <td>11000.0</td>\n",
       "      <td>sedan</td>\n",
       "      <td>0</td>\n",
       "      <td>0</td>\n",
       "      <td>0</td>\n",
       "      <td>0.0</td>\n",
       "    </tr>\n",
       "    <tr>\n",
       "      <th>3</th>\n",
       "      <td>478866</td>\n",
       "      <td>16-25</td>\n",
       "      <td>m</td>\n",
       "      <td>majority</td>\n",
       "      <td>0-9y</td>\n",
       "      <td>u</td>\n",
       "      <td>working class</td>\n",
       "      <td>0.206013</td>\n",
       "      <td>1.0</td>\n",
       "      <td>before 2015</td>\n",
       "      <td>0.0</td>\n",
       "      <td>1.0</td>\n",
       "      <td>32765</td>\n",
       "      <td>11000.0</td>\n",
       "      <td>sedan</td>\n",
       "      <td>0</td>\n",
       "      <td>0</td>\n",
       "      <td>0</td>\n",
       "      <td>0.0</td>\n",
       "    </tr>\n",
       "    <tr>\n",
       "      <th>4</th>\n",
       "      <td>731664</td>\n",
       "      <td>26-39</td>\n",
       "      <td>m</td>\n",
       "      <td>majority</td>\n",
       "      <td>10-19y</td>\n",
       "      <td>n</td>\n",
       "      <td>working class</td>\n",
       "      <td>0.388366</td>\n",
       "      <td>1.0</td>\n",
       "      <td>before 2015</td>\n",
       "      <td>0.0</td>\n",
       "      <td>0.0</td>\n",
       "      <td>32765</td>\n",
       "      <td>12000.0</td>\n",
       "      <td>sedan</td>\n",
       "      <td>2</td>\n",
       "      <td>0</td>\n",
       "      <td>1</td>\n",
       "      <td>1.0</td>\n",
       "    </tr>\n",
       "    <tr>\n",
       "      <th>5</th>\n",
       "      <td>877557</td>\n",
       "      <td>40-64</td>\n",
       "      <td>f</td>\n",
       "      <td>majority</td>\n",
       "      <td>20-29y</td>\n",
       "      <td>h</td>\n",
       "      <td>upper class</td>\n",
       "      <td>0.619127</td>\n",
       "      <td>1.0</td>\n",
       "      <td>after 2015</td>\n",
       "      <td>0.0</td>\n",
       "      <td>1.0</td>\n",
       "      <td>10238</td>\n",
       "      <td>13000.0</td>\n",
       "      <td>sedan</td>\n",
       "      <td>3</td>\n",
       "      <td>0</td>\n",
       "      <td>3</td>\n",
       "      <td>0.0</td>\n",
       "    </tr>\n",
       "    <tr>\n",
       "      <th>6</th>\n",
       "      <td>930134</td>\n",
       "      <td>65+</td>\n",
       "      <td>m</td>\n",
       "      <td>majority</td>\n",
       "      <td>30y+</td>\n",
       "      <td>h</td>\n",
       "      <td>upper class</td>\n",
       "      <td>0.492944</td>\n",
       "      <td>0.0</td>\n",
       "      <td>after 2015</td>\n",
       "      <td>1.0</td>\n",
       "      <td>1.0</td>\n",
       "      <td>10238</td>\n",
       "      <td>13000.0</td>\n",
       "      <td>sedan</td>\n",
       "      <td>7</td>\n",
       "      <td>0</td>\n",
       "      <td>3</td>\n",
       "      <td>0.0</td>\n",
       "    </tr>\n",
       "    <tr>\n",
       "      <th>7</th>\n",
       "      <td>461006</td>\n",
       "      <td>26-39</td>\n",
       "      <td>f</td>\n",
       "      <td>majority</td>\n",
       "      <td>0-9y</td>\n",
       "      <td>u</td>\n",
       "      <td>working class</td>\n",
       "      <td>0.468689</td>\n",
       "      <td>0.0</td>\n",
       "      <td>after 2015</td>\n",
       "      <td>0.0</td>\n",
       "      <td>1.0</td>\n",
       "      <td>10238</td>\n",
       "      <td>14000.0</td>\n",
       "      <td>sedan</td>\n",
       "      <td>0</td>\n",
       "      <td>0</td>\n",
       "      <td>0</td>\n",
       "      <td>1.0</td>\n",
       "    </tr>\n",
       "    <tr>\n",
       "      <th>8</th>\n",
       "      <td>68366</td>\n",
       "      <td>40-64</td>\n",
       "      <td>f</td>\n",
       "      <td>majority</td>\n",
       "      <td>20-29y</td>\n",
       "      <td>u</td>\n",
       "      <td>working class</td>\n",
       "      <td>0.521815</td>\n",
       "      <td>0.0</td>\n",
       "      <td>before 2015</td>\n",
       "      <td>1.0</td>\n",
       "      <td>0.0</td>\n",
       "      <td>10238</td>\n",
       "      <td>13000.0</td>\n",
       "      <td>sedan</td>\n",
       "      <td>0</td>\n",
       "      <td>0</td>\n",
       "      <td>0</td>\n",
       "      <td>0.0</td>\n",
       "    </tr>\n",
       "    <tr>\n",
       "      <th>9</th>\n",
       "      <td>445911</td>\n",
       "      <td>40-64</td>\n",
       "      <td>f</td>\n",
       "      <td>majority</td>\n",
       "      <td>0-9y</td>\n",
       "      <td>h</td>\n",
       "      <td>upper class</td>\n",
       "      <td>0.561531</td>\n",
       "      <td>1.0</td>\n",
       "      <td>before 2015</td>\n",
       "      <td>0.0</td>\n",
       "      <td>1.0</td>\n",
       "      <td>32765</td>\n",
       "      <td>11000.0</td>\n",
       "      <td>sedan</td>\n",
       "      <td>0</td>\n",
       "      <td>0</td>\n",
       "      <td>0</td>\n",
       "      <td>1.0</td>\n",
       "    </tr>\n",
       "  </tbody>\n",
       "</table>\n",
       "</div>"
      ],
      "text/plain": [
       "       ID    AGE GENDER      RACE DRIVING_EXPERIENCE EDUCATION         INCOME  \\\n",
       "0  569520    65+      f  majority               0-9y         h    upper class   \n",
       "1  750365  16-25      m  majority               0-9y         n        poverty   \n",
       "2  199901  16-25      f  majority               0-9y         h  working class   \n",
       "3  478866  16-25      m  majority               0-9y         u  working class   \n",
       "4  731664  26-39      m  majority             10-19y         n  working class   \n",
       "5  877557  40-64      f  majority             20-29y         h    upper class   \n",
       "6  930134    65+      m  majority               30y+         h    upper class   \n",
       "7  461006  26-39      f  majority               0-9y         u  working class   \n",
       "8   68366  40-64      f  majority             20-29y         u  working class   \n",
       "9  445911  40-64      f  majority               0-9y         h    upper class   \n",
       "\n",
       "   CREDIT_SCORE  VEHICLE_OWNERSHIP VEHICLE_YEAR  MARRIED  CHILDREN  \\\n",
       "0      0.629027                1.0   after 2015      0.0       1.0   \n",
       "1      0.357757                0.0  before 2015      0.0       0.0   \n",
       "2      0.493146                1.0  before 2015      0.0       0.0   \n",
       "3      0.206013                1.0  before 2015      0.0       1.0   \n",
       "4      0.388366                1.0  before 2015      0.0       0.0   \n",
       "5      0.619127                1.0   after 2015      0.0       1.0   \n",
       "6      0.492944                0.0   after 2015      1.0       1.0   \n",
       "7      0.468689                0.0   after 2015      0.0       1.0   \n",
       "8      0.521815                0.0  before 2015      1.0       0.0   \n",
       "9      0.561531                1.0  before 2015      0.0       1.0   \n",
       "\n",
       "   POSTAL_CODE  ANNUAL_MILEAGE VEHICLE_TYPE  SPEEDING_VIOLATIONS  DUIS  \\\n",
       "0        10238         12000.0        sedan                    0     0   \n",
       "1        10238         16000.0        sedan                    0     0   \n",
       "2        10238         11000.0        sedan                    0     0   \n",
       "3        32765         11000.0        sedan                    0     0   \n",
       "4        32765         12000.0        sedan                    2     0   \n",
       "5        10238         13000.0        sedan                    3     0   \n",
       "6        10238         13000.0        sedan                    7     0   \n",
       "7        10238         14000.0        sedan                    0     0   \n",
       "8        10238         13000.0        sedan                    0     0   \n",
       "9        32765         11000.0        sedan                    0     0   \n",
       "\n",
       "   PAST_ACCIDENTS  OUTCOME  \n",
       "0               0      0.0  \n",
       "1               0      1.0  \n",
       "2               0      0.0  \n",
       "3               0      0.0  \n",
       "4               1      1.0  \n",
       "5               3      0.0  \n",
       "6               3      0.0  \n",
       "7               0      1.0  \n",
       "8               0      0.0  \n",
       "9               0      1.0  "
      ]
     },
     "execution_count": 24,
     "metadata": {},
     "output_type": "execute_result"
    }
   ],
   "source": [
    "cdf.head(10)"
   ]
  },
  {
   "cell_type": "code",
   "execution_count": 25,
   "id": "4ec8db5f",
   "metadata": {},
   "outputs": [
    {
     "data": {
      "text/plain": [
       "<seaborn.axisgrid.FacetGrid at 0x240308ad0a0>"
      ]
     },
     "execution_count": 25,
     "metadata": {},
     "output_type": "execute_result"
    },
    {
     "data": {
      "image/png": "[encoded data removed]",
      "text/plain": [
       "<Figure size 360x360 with 1 Axes>"
      ]
     },
     "metadata": {
      "needs_background": "light"
     },
     "output_type": "display_data"
    }
   ],
   "source": [
    "sns.displot(cdf[\"EDUCATION\"])"
   ]
  },
  {
   "cell_type": "markdown",
   "id": "51cb5fc7",
   "metadata": {},
   "source": [
    "### 1.6 INCOME encoding\n",
    "This freature is specially problematic, is a subjetive view of the income (we can not know the real value) so the author of the survey creates 4 categories: upper, working, middle and poverty.\n",
    "The categories will be changed to poverty (p), lower (l), medium (m) and upper (u) as ordinal/categorical data.\n"
   ]
  },
  {
   "cell_type": "code",
   "execution_count": 26,
   "id": "40459dd1",
   "metadata": {},
   "outputs": [
    {
     "data": {
      "text/plain": [
       "array(['upper class', 'poverty', 'working class', 'middle class'],\n",
       "      dtype=object)"
      ]
     },
     "execution_count": 26,
     "metadata": {},
     "output_type": "execute_result"
    }
   ],
   "source": [
    "coches[\"INCOME\"].unique()"
   ]
  },
  {
   "cell_type": "code",
   "execution_count": 27,
   "id": "e37377b6",
   "metadata": {},
   "outputs": [
    {
     "data": {
      "text/html": [
       "<div>\n",
       "<style scoped>\n",
       "    .dataframe tbody tr th:only-of-type {\n",
       "        vertical-align: middle;\n",
       "    }\n",
       "\n",
       "    .dataframe tbody tr th {\n",
       "        vertical-align: top;\n",
       "    }\n",
       "\n",
       "    .dataframe thead th {\n",
       "        text-align: right;\n",
       "    }\n",
       "</style>\n",
       "<table border=\"1\" class=\"dataframe\">\n",
       "  <thead>\n",
       "    <tr style=\"text-align: right;\">\n",
       "      <th></th>\n",
       "      <th>ID</th>\n",
       "      <th>AGE</th>\n",
       "      <th>GENDER</th>\n",
       "      <th>RACE</th>\n",
       "      <th>DRIVING_EXPERIENCE</th>\n",
       "      <th>EDUCATION</th>\n",
       "      <th>INCOME</th>\n",
       "      <th>CREDIT_SCORE</th>\n",
       "      <th>VEHICLE_OWNERSHIP</th>\n",
       "      <th>VEHICLE_YEAR</th>\n",
       "      <th>MARRIED</th>\n",
       "      <th>CHILDREN</th>\n",
       "      <th>POSTAL_CODE</th>\n",
       "      <th>ANNUAL_MILEAGE</th>\n",
       "      <th>VEHICLE_TYPE</th>\n",
       "      <th>SPEEDING_VIOLATIONS</th>\n",
       "      <th>DUIS</th>\n",
       "      <th>PAST_ACCIDENTS</th>\n",
       "      <th>OUTCOME</th>\n",
       "    </tr>\n",
       "  </thead>\n",
       "  <tbody>\n",
       "    <tr>\n",
       "      <th>0</th>\n",
       "      <td>569520</td>\n",
       "      <td>65+</td>\n",
       "      <td>f</td>\n",
       "      <td>majority</td>\n",
       "      <td>0-9y</td>\n",
       "      <td>h</td>\n",
       "      <td>u</td>\n",
       "      <td>0.629027</td>\n",
       "      <td>1.0</td>\n",
       "      <td>after 2015</td>\n",
       "      <td>0.0</td>\n",
       "      <td>1.0</td>\n",
       "      <td>10238</td>\n",
       "      <td>12000.0</td>\n",
       "      <td>sedan</td>\n",
       "      <td>0</td>\n",
       "      <td>0</td>\n",
       "      <td>0</td>\n",
       "      <td>0.0</td>\n",
       "    </tr>\n",
       "    <tr>\n",
       "      <th>1</th>\n",
       "      <td>750365</td>\n",
       "      <td>16-25</td>\n",
       "      <td>m</td>\n",
       "      <td>majority</td>\n",
       "      <td>0-9y</td>\n",
       "      <td>n</td>\n",
       "      <td>p</td>\n",
       "      <td>0.357757</td>\n",
       "      <td>0.0</td>\n",
       "      <td>before 2015</td>\n",
       "      <td>0.0</td>\n",
       "      <td>0.0</td>\n",
       "      <td>10238</td>\n",
       "      <td>16000.0</td>\n",
       "      <td>sedan</td>\n",
       "      <td>0</td>\n",
       "      <td>0</td>\n",
       "      <td>0</td>\n",
       "      <td>1.0</td>\n",
       "    </tr>\n",
       "    <tr>\n",
       "      <th>2</th>\n",
       "      <td>199901</td>\n",
       "      <td>16-25</td>\n",
       "      <td>f</td>\n",
       "      <td>majority</td>\n",
       "      <td>0-9y</td>\n",
       "      <td>h</td>\n",
       "      <td>l</td>\n",
       "      <td>0.493146</td>\n",
       "      <td>1.0</td>\n",
       "      <td>before 2015</td>\n",
       "      <td>0.0</td>\n",
       "      <td>0.0</td>\n",
       "      <td>10238</td>\n",
       "      <td>11000.0</td>\n",
       "      <td>sedan</td>\n",
       "      <td>0</td>\n",
       "      <td>0</td>\n",
       "      <td>0</td>\n",
       "      <td>0.0</td>\n",
       "    </tr>\n",
       "    <tr>\n",
       "      <th>3</th>\n",
       "      <td>478866</td>\n",
       "      <td>16-25</td>\n",
       "      <td>m</td>\n",
       "      <td>majority</td>\n",
       "      <td>0-9y</td>\n",
       "      <td>u</td>\n",
       "      <td>l</td>\n",
       "      <td>0.206013</td>\n",
       "      <td>1.0</td>\n",
       "      <td>before 2015</td>\n",
       "      <td>0.0</td>\n",
       "      <td>1.0</td>\n",
       "      <td>32765</td>\n",
       "      <td>11000.0</td>\n",
       "      <td>sedan</td>\n",
       "      <td>0</td>\n",
       "      <td>0</td>\n",
       "      <td>0</td>\n",
       "      <td>0.0</td>\n",
       "    </tr>\n",
       "    <tr>\n",
       "      <th>4</th>\n",
       "      <td>731664</td>\n",
       "      <td>26-39</td>\n",
       "      <td>m</td>\n",
       "      <td>majority</td>\n",
       "      <td>10-19y</td>\n",
       "      <td>n</td>\n",
       "      <td>l</td>\n",
       "      <td>0.388366</td>\n",
       "      <td>1.0</td>\n",
       "      <td>before 2015</td>\n",
       "      <td>0.0</td>\n",
       "      <td>0.0</td>\n",
       "      <td>32765</td>\n",
       "      <td>12000.0</td>\n",
       "      <td>sedan</td>\n",
       "      <td>2</td>\n",
       "      <td>0</td>\n",
       "      <td>1</td>\n",
       "      <td>1.0</td>\n",
       "    </tr>\n",
       "    <tr>\n",
       "      <th>5</th>\n",
       "      <td>877557</td>\n",
       "      <td>40-64</td>\n",
       "      <td>f</td>\n",
       "      <td>majority</td>\n",
       "      <td>20-29y</td>\n",
       "      <td>h</td>\n",
       "      <td>u</td>\n",
       "      <td>0.619127</td>\n",
       "      <td>1.0</td>\n",
       "      <td>after 2015</td>\n",
       "      <td>0.0</td>\n",
       "      <td>1.0</td>\n",
       "      <td>10238</td>\n",
       "      <td>13000.0</td>\n",
       "      <td>sedan</td>\n",
       "      <td>3</td>\n",
       "      <td>0</td>\n",
       "      <td>3</td>\n",
       "      <td>0.0</td>\n",
       "    </tr>\n",
       "    <tr>\n",
       "      <th>6</th>\n",
       "      <td>930134</td>\n",
       "      <td>65+</td>\n",
       "      <td>m</td>\n",
       "      <td>majority</td>\n",
       "      <td>30y+</td>\n",
       "      <td>h</td>\n",
       "      <td>u</td>\n",
       "      <td>0.492944</td>\n",
       "      <td>0.0</td>\n",
       "      <td>after 2015</td>\n",
       "      <td>1.0</td>\n",
       "      <td>1.0</td>\n",
       "      <td>10238</td>\n",
       "      <td>13000.0</td>\n",
       "      <td>sedan</td>\n",
       "      <td>7</td>\n",
       "      <td>0</td>\n",
       "      <td>3</td>\n",
       "      <td>0.0</td>\n",
       "    </tr>\n",
       "    <tr>\n",
       "      <th>7</th>\n",
       "      <td>461006</td>\n",
       "      <td>26-39</td>\n",
       "      <td>f</td>\n",
       "      <td>majority</td>\n",
       "      <td>0-9y</td>\n",
       "      <td>u</td>\n",
       "      <td>l</td>\n",
       "      <td>0.468689</td>\n",
       "      <td>0.0</td>\n",
       "      <td>after 2015</td>\n",
       "      <td>0.0</td>\n",
       "      <td>1.0</td>\n",
       "      <td>10238</td>\n",
       "      <td>14000.0</td>\n",
       "      <td>sedan</td>\n",
       "      <td>0</td>\n",
       "      <td>0</td>\n",
       "      <td>0</td>\n",
       "      <td>1.0</td>\n",
       "    </tr>\n",
       "    <tr>\n",
       "      <th>8</th>\n",
       "      <td>68366</td>\n",
       "      <td>40-64</td>\n",
       "      <td>f</td>\n",
       "      <td>majority</td>\n",
       "      <td>20-29y</td>\n",
       "      <td>u</td>\n",
       "      <td>l</td>\n",
       "      <td>0.521815</td>\n",
       "      <td>0.0</td>\n",
       "      <td>before 2015</td>\n",
       "      <td>1.0</td>\n",
       "      <td>0.0</td>\n",
       "      <td>10238</td>\n",
       "      <td>13000.0</td>\n",
       "      <td>sedan</td>\n",
       "      <td>0</td>\n",
       "      <td>0</td>\n",
       "      <td>0</td>\n",
       "      <td>0.0</td>\n",
       "    </tr>\n",
       "    <tr>\n",
       "      <th>9</th>\n",
       "      <td>445911</td>\n",
       "      <td>40-64</td>\n",
       "      <td>f</td>\n",
       "      <td>majority</td>\n",
       "      <td>0-9y</td>\n",
       "      <td>h</td>\n",
       "      <td>u</td>\n",
       "      <td>0.561531</td>\n",
       "      <td>1.0</td>\n",
       "      <td>before 2015</td>\n",
       "      <td>0.0</td>\n",
       "      <td>1.0</td>\n",
       "      <td>32765</td>\n",
       "      <td>11000.0</td>\n",
       "      <td>sedan</td>\n",
       "      <td>0</td>\n",
       "      <td>0</td>\n",
       "      <td>0</td>\n",
       "      <td>1.0</td>\n",
       "    </tr>\n",
       "  </tbody>\n",
       "</table>\n",
       "</div>"
      ],
      "text/plain": [
       "       ID    AGE GENDER      RACE DRIVING_EXPERIENCE EDUCATION INCOME  \\\n",
       "0  569520    65+      f  majority               0-9y         h      u   \n",
       "1  750365  16-25      m  majority               0-9y         n      p   \n",
       "2  199901  16-25      f  majority               0-9y         h      l   \n",
       "3  478866  16-25      m  majority               0-9y         u      l   \n",
       "4  731664  26-39      m  majority             10-19y         n      l   \n",
       "5  877557  40-64      f  majority             20-29y         h      u   \n",
       "6  930134    65+      m  majority               30y+         h      u   \n",
       "7  461006  26-39      f  majority               0-9y         u      l   \n",
       "8   68366  40-64      f  majority             20-29y         u      l   \n",
       "9  445911  40-64      f  majority               0-9y         h      u   \n",
       "\n",
       "   CREDIT_SCORE  VEHICLE_OWNERSHIP VEHICLE_YEAR  MARRIED  CHILDREN  \\\n",
       "0      0.629027                1.0   after 2015      0.0       1.0   \n",
       "1      0.357757                0.0  before 2015      0.0       0.0   \n",
       "2      0.493146                1.0  before 2015      0.0       0.0   \n",
       "3      0.206013                1.0  before 2015      0.0       1.0   \n",
       "4      0.388366                1.0  before 2015      0.0       0.0   \n",
       "5      0.619127                1.0   after 2015      0.0       1.0   \n",
       "6      0.492944                0.0   after 2015      1.0       1.0   \n",
       "7      0.468689                0.0   after 2015      0.0       1.0   \n",
       "8      0.521815                0.0  before 2015      1.0       0.0   \n",
       "9      0.561531                1.0  before 2015      0.0       1.0   \n",
       "\n",
       "   POSTAL_CODE  ANNUAL_MILEAGE VEHICLE_TYPE  SPEEDING_VIOLATIONS  DUIS  \\\n",
       "0        10238         12000.0        sedan                    0     0   \n",
       "1        10238         16000.0        sedan                    0     0   \n",
       "2        10238         11000.0        sedan                    0     0   \n",
       "3        32765         11000.0        sedan                    0     0   \n",
       "4        32765         12000.0        sedan                    2     0   \n",
       "5        10238         13000.0        sedan                    3     0   \n",
       "6        10238         13000.0        sedan                    7     0   \n",
       "7        10238         14000.0        sedan                    0     0   \n",
       "8        10238         13000.0        sedan                    0     0   \n",
       "9        32765         11000.0        sedan                    0     0   \n",
       "\n",
       "   PAST_ACCIDENTS  OUTCOME  \n",
       "0               0      0.0  \n",
       "1               0      1.0  \n",
       "2               0      0.0  \n",
       "3               0      0.0  \n",
       "4               1      1.0  \n",
       "5               3      0.0  \n",
       "6               3      0.0  \n",
       "7               0      1.0  \n",
       "8               0      0.0  \n",
       "9               0      1.0  "
      ]
     },
     "execution_count": 27,
     "metadata": {},
     "output_type": "execute_result"
    }
   ],
   "source": [
    "cdf[\"INCOME\"]=cdf[\"INCOME\"].replace({'poverty':'p','working class':'l','middle class':'m','upper class':'u'})\n",
    "\n",
    "cdf[\"INCOME\"] = pd.Categorical(\n",
    "    cdf[\"INCOME\"],\n",
    "    categories=['p','l','m','u'],\n",
    "    ordered=True\n",
    ")\n",
    "cdf.head(10)"
   ]
  },
  {
   "cell_type": "code",
   "execution_count": 28,
   "id": "08789915",
   "metadata": {},
   "outputs": [
    {
     "name": "stdout",
     "output_type": "stream",
     "text": [
      "<class 'pandas.core.frame.DataFrame'>\n",
      "RangeIndex: 10000 entries, 0 to 9999\n",
      "Data columns (total 19 columns):\n",
      " #   Column               Non-Null Count  Dtype   \n",
      "---  ------               --------------  -----   \n",
      " 0   ID                   10000 non-null  int64   \n",
      " 1   AGE                  10000 non-null  category\n",
      " 2   GENDER               10000 non-null  object  \n",
      " 3   RACE                 10000 non-null  object  \n",
      " 4   DRIVING_EXPERIENCE   10000 non-null  category\n",
      " 5   EDUCATION            10000 non-null  category\n",
      " 6   INCOME               10000 non-null  category\n",
      " 7   CREDIT_SCORE         9018 non-null   float64 \n",
      " 8   VEHICLE_OWNERSHIP    10000 non-null  float64 \n",
      " 9   VEHICLE_YEAR         10000 non-null  object  \n",
      " 10  MARRIED              10000 non-null  float64 \n",
      " 11  CHILDREN             10000 non-null  float64 \n",
      " 12  POSTAL_CODE          10000 non-null  int64   \n",
      " 13  ANNUAL_MILEAGE       9043 non-null   float64 \n",
      " 14  VEHICLE_TYPE         10000 non-null  object  \n",
      " 15  SPEEDING_VIOLATIONS  10000 non-null  int64   \n",
      " 16  DUIS                 10000 non-null  int64   \n",
      " 17  PAST_ACCIDENTS       10000 non-null  int64   \n",
      " 18  OUTCOME              10000 non-null  float64 \n",
      "dtypes: category(4), float64(6), int64(5), object(4)\n",
      "memory usage: 1.2+ MB\n"
     ]
    }
   ],
   "source": [
    "cdf.info()"
   ]
  },
  {
   "cell_type": "code",
   "execution_count": 29,
   "id": "b5cef1f8",
   "metadata": {},
   "outputs": [
    {
     "data": {
      "text/plain": [
       "<seaborn.axisgrid.FacetGrid at 0x2402ff529a0>"
      ]
     },
     "execution_count": 29,
     "metadata": {},
     "output_type": "execute_result"
    },
    {
     "data": {
      "image/png": "[encoded data removed]",
      "text/plain": [
       "<Figure size 360x360 with 1 Axes>"
      ]
     },
     "metadata": {
      "needs_background": "light"
     },
     "output_type": "display_data"
    }
   ],
   "source": [
    "sns.displot(cdf[\"INCOME\"])"
   ]
  },
  {
   "cell_type": "markdown",
   "id": "3dc44aa1",
   "metadata": {},
   "source": [
    "### 1.7 VEHICLE_OWNERSHIP\n",
    "We just have to turn the values into boolean values instead of numerical."
   ]
  },
  {
   "cell_type": "code",
   "execution_count": 30,
   "id": "30e1dc38",
   "metadata": {},
   "outputs": [],
   "source": [
    "cdf[\"VEHICLE_OWNERSHIP\"] = cdf[\"VEHICLE_OWNERSHIP\"].astype('bool')"
   ]
  },
  {
   "cell_type": "code",
   "execution_count": 31,
   "id": "4a7c9a7c",
   "metadata": {},
   "outputs": [
    {
     "data": {
      "text/plain": [
       "0        True\n",
       "1       False\n",
       "2        True\n",
       "3        True\n",
       "4        True\n",
       "        ...  \n",
       "9995     True\n",
       "9996     True\n",
       "9997     True\n",
       "9998    False\n",
       "9999     True\n",
       "Name: VEHICLE_OWNERSHIP, Length: 10000, dtype: bool"
      ]
     },
     "execution_count": 31,
     "metadata": {},
     "output_type": "execute_result"
    }
   ],
   "source": [
    "cdf[\"VEHICLE_OWNERSHIP\"]"
   ]
  },
  {
   "cell_type": "code",
   "execution_count": 32,
   "id": "a56dbe8b",
   "metadata": {},
   "outputs": [
    {
     "name": "stdout",
     "output_type": "stream",
     "text": [
      "<class 'pandas.core.frame.DataFrame'>\n",
      "RangeIndex: 10000 entries, 0 to 9999\n",
      "Data columns (total 19 columns):\n",
      " #   Column               Non-Null Count  Dtype   \n",
      "---  ------               --------------  -----   \n",
      " 0   ID                   10000 non-null  int64   \n",
      " 1   AGE                  10000 non-null  category\n",
      " 2   GENDER               10000 non-null  object  \n",
      " 3   RACE                 10000 non-null  object  \n",
      " 4   DRIVING_EXPERIENCE   10000 non-null  category\n",
      " 5   EDUCATION            10000 non-null  category\n",
      " 6   INCOME               10000 non-null  category\n",
      " 7   CREDIT_SCORE         9018 non-null   float64 \n",
      " 8   VEHICLE_OWNERSHIP    10000 non-null  bool    \n",
      " 9   VEHICLE_YEAR         10000 non-null  object  \n",
      " 10  MARRIED              10000 non-null  float64 \n",
      " 11  CHILDREN             10000 non-null  float64 \n",
      " 12  POSTAL_CODE          10000 non-null  int64   \n",
      " 13  ANNUAL_MILEAGE       9043 non-null   float64 \n",
      " 14  VEHICLE_TYPE         10000 non-null  object  \n",
      " 15  SPEEDING_VIOLATIONS  10000 non-null  int64   \n",
      " 16  DUIS                 10000 non-null  int64   \n",
      " 17  PAST_ACCIDENTS       10000 non-null  int64   \n",
      " 18  OUTCOME              10000 non-null  float64 \n",
      "dtypes: bool(1), category(4), float64(5), int64(5), object(4)\n",
      "memory usage: 1.1+ MB\n"
     ]
    }
   ],
   "source": [
    "cdf.info()"
   ]
  },
  {
   "cell_type": "code",
   "execution_count": 33,
   "id": "3cba080a",
   "metadata": {},
   "outputs": [
    {
     "data": {
      "image/png": "[encoded data removed]",
      "text/plain": [
       "<Figure size 432x288 with 1 Axes>"
      ]
     },
     "metadata": {},
     "output_type": "display_data"
    }
   ],
   "source": [
    "valores = cdf[\"VEHICLE_OWNERSHIP\"].value_counts()\n",
    "plt.pie(valores,labels=[\"Vehicle in property\",\"Withouut vehicle\"],autopct='%.0f%%')\n",
    "plt.show()"
   ]
  },
  {
   "cell_type": "markdown",
   "id": "0292518b",
   "metadata": {},
   "source": [
    "### 1.8 VEHICLE_YEAR\n",
    "The data is unnecesary log, cars are clasified before and after 2015, so data will change to b/a."
   ]
  },
  {
   "cell_type": "code",
   "execution_count": 34,
   "id": "d770d8f2",
   "metadata": {},
   "outputs": [
    {
     "data": {
      "text/plain": [
       "array(['after 2015', 'before 2015'], dtype=object)"
      ]
     },
     "execution_count": 34,
     "metadata": {},
     "output_type": "execute_result"
    }
   ],
   "source": [
    " cdf[\"VEHICLE_YEAR\"].unique()"
   ]
  },
  {
   "cell_type": "code",
   "execution_count": 35,
   "id": "7d495287",
   "metadata": {},
   "outputs": [
    {
     "name": "stdout",
     "output_type": "stream",
     "text": [
      "<class 'pandas.core.frame.DataFrame'>\n",
      "RangeIndex: 10000 entries, 0 to 9999\n",
      "Data columns (total 19 columns):\n",
      " #   Column               Non-Null Count  Dtype   \n",
      "---  ------               --------------  -----   \n",
      " 0   ID                   10000 non-null  int64   \n",
      " 1   AGE                  10000 non-null  category\n",
      " 2   GENDER               10000 non-null  object  \n",
      " 3   RACE                 10000 non-null  object  \n",
      " 4   DRIVING_EXPERIENCE   10000 non-null  category\n",
      " 5   EDUCATION            10000 non-null  category\n",
      " 6   INCOME               10000 non-null  category\n",
      " 7   CREDIT_SCORE         9018 non-null   float64 \n",
      " 8   VEHICLE_OWNERSHIP    10000 non-null  bool    \n",
      " 9   VEHICLE_YEAR         10000 non-null  category\n",
      " 10  MARRIED              10000 non-null  float64 \n",
      " 11  CHILDREN             10000 non-null  float64 \n",
      " 12  POSTAL_CODE          10000 non-null  int64   \n",
      " 13  ANNUAL_MILEAGE       9043 non-null   float64 \n",
      " 14  VEHICLE_TYPE         10000 non-null  object  \n",
      " 15  SPEEDING_VIOLATIONS  10000 non-null  int64   \n",
      " 16  DUIS                 10000 non-null  int64   \n",
      " 17  PAST_ACCIDENTS       10000 non-null  int64   \n",
      " 18  OUTCOME              10000 non-null  float64 \n",
      "dtypes: bool(1), category(5), float64(5), int64(5), object(3)\n",
      "memory usage: 1.0+ MB\n"
     ]
    }
   ],
   "source": [
    "cdf[\"VEHICLE_YEAR\"]=cdf[\"VEHICLE_YEAR\"].replace({'after 2015':'a','before 2015':'b'})\n",
    "\n",
    "cdf[\"VEHICLE_YEAR\"] = pd.Categorical(\n",
    "    cdf[\"VEHICLE_YEAR\"],\n",
    "    categories=['b','a'],\n",
    "    ordered=True\n",
    ")\n",
    "cdf.info()"
   ]
  },
  {
   "cell_type": "code",
   "execution_count": 36,
   "id": "9920bc21",
   "metadata": {},
   "outputs": [
    {
     "data": {
      "image/png": "[encoded data removed]",
      "text/plain": [
       "<Figure size 432x288 with 1 Axes>"
      ]
     },
     "metadata": {},
     "output_type": "display_data"
    }
   ],
   "source": [
    "valores = cdf[\"VEHICLE_YEAR\"].value_counts()\n",
    "plt.pie(valores,labels=[\"Before 2015\",\"After 2015\"],autopct='%.0f%%')\n",
    "plt.show()"
   ]
  },
  {
   "cell_type": "markdown",
   "id": "cbdf5ed4",
   "metadata": {},
   "source": [
    "### 1.9 MARRIED\n",
    "Same procedure as in VEHICLE_OWNERSHIP"
   ]
  },
  {
   "cell_type": "code",
   "execution_count": 37,
   "id": "8ed2632b",
   "metadata": {},
   "outputs": [
    {
     "data": {
      "text/plain": [
       "0.0    5018\n",
       "1.0    4982\n",
       "Name: MARRIED, dtype: int64"
      ]
     },
     "execution_count": 37,
     "metadata": {},
     "output_type": "execute_result"
    }
   ],
   "source": [
    "cdf[\"MARRIED\"].value_counts()"
   ]
  },
  {
   "cell_type": "code",
   "execution_count": 38,
   "id": "f842181e",
   "metadata": {},
   "outputs": [
    {
     "data": {
      "image/png": "[encoded data removed]",
      "text/plain": [
       "<Figure size 432x288 with 1 Axes>"
      ]
     },
     "metadata": {},
     "output_type": "display_data"
    }
   ],
   "source": [
    "cdf[\"MARRIED\"] = cdf[\"MARRIED\"].astype('bool')\n",
    "valores = cdf[\"MARRIED\"].value_counts()\n",
    "plt.pie(valores,labels=[\"Married\",\"Not Married\"],autopct='%.0f%%')\n",
    "plt.show()"
   ]
  },
  {
   "cell_type": "markdown",
   "id": "49c0b3f0",
   "metadata": {},
   "source": [
    "### 1.10 CHILDREN             \n",
    "Since we only know in the costumer haves children or not, the procedure is the same as in MARRIED."
   ]
  },
  {
   "cell_type": "code",
   "execution_count": 39,
   "id": "b874905d",
   "metadata": {},
   "outputs": [
    {
     "data": {
      "text/plain": [
       "1.0    6888\n",
       "0.0    3112\n",
       "Name: CHILDREN, dtype: int64"
      ]
     },
     "execution_count": 39,
     "metadata": {},
     "output_type": "execute_result"
    }
   ],
   "source": [
    "cdf[\"CHILDREN\"].value_counts()"
   ]
  },
  {
   "cell_type": "code",
   "execution_count": 40,
   "id": "f554a6c1",
   "metadata": {},
   "outputs": [
    {
     "data": {
      "image/png": "[encoded data removed]",
      "text/plain": [
       "<Figure size 432x288 with 1 Axes>"
      ]
     },
     "metadata": {},
     "output_type": "display_data"
    }
   ],
   "source": [
    "cdf[\"CHILDREN\"] = cdf[\"CHILDREN\"].astype('bool')\n",
    "valores = cdf[\"CHILDREN\"].value_counts()\n",
    "plt.pie(valores,labels=[\"With children\",\"W/O children\"],autopct='%.0f%%')\n",
    "plt.show()"
   ]
  },
  {
   "cell_type": "markdown",
   "id": "0a89059c",
   "metadata": {},
   "source": [
    "### 1.11 POSTAL_CODE\n",
    "The postal code is defined as numerical, but is categorical."
   ]
  },
  {
   "cell_type": "code",
   "execution_count": 41,
   "id": "8c413782",
   "metadata": {},
   "outputs": [
    {
     "data": {
      "text/plain": [
       "10238    6940\n",
       "32765    2456\n",
       "92101     484\n",
       "21217     120\n",
       "Name: POSTAL_CODE, dtype: int64"
      ]
     },
     "execution_count": 41,
     "metadata": {},
     "output_type": "execute_result"
    }
   ],
   "source": [
    "cdf[\"POSTAL_CODE\"].value_counts()"
   ]
  },
  {
   "cell_type": "code",
   "execution_count": 62,
   "id": "b5a98921",
   "metadata": {},
   "outputs": [
    {
     "data": {
      "image/png": "[encoded data removed]",
      "text/plain": [
       "<Figure size 432x288 with 1 Axes>"
      ]
     },
     "metadata": {},
     "output_type": "display_data"
    }
   ],
   "source": [
    "cdf[\"POSTAL_CODE\"] = pd.Categorical(cdf[\"POSTAL_CODE\"])\n",
    "values = cdf[\"POSTAL_CODE\"].value_counts()\n",
    "plt.pie(values,labels=cdf[\"POSTAL_CODE\"].unique(),autopct='%.0f%%')\n",
    "plt.show()"
   ]
  },
  {
   "cell_type": "code",
   "execution_count": 65,
   "id": "8b27112b",
   "metadata": {},
   "outputs": [
    {
     "data": {
      "text/plain": [
       "0       10238\n",
       "1       10238\n",
       "2       10238\n",
       "3       32765\n",
       "4       32765\n",
       "        ...  \n",
       "9995    10238\n",
       "9996    32765\n",
       "9997    10238\n",
       "9998    10238\n",
       "9999    10238\n",
       "Name: POSTAL_CODE, Length: 10000, dtype: category\n",
       "Categories (4, int64): [10238, 21217, 32765, 92101]"
      ]
     },
     "execution_count": 65,
     "metadata": {},
     "output_type": "execute_result"
    }
   ],
   "source": [
    "cdf[\"POSTAL_CODE\"]"
   ]
  },
  {
   "cell_type": "markdown",
   "id": "dfd0bee8",
   "metadata": {},
   "source": [
    "### 1.12 ANNUAL_MILEAGE\n",
    "The first thing we notice is that the mileage follows a Gaussian distribution, which makes sense considering the nature of the data.\n",
    "We also find some null data we have to clean, inthis case we will use the Mean method."
   ]
  },
  {
   "cell_type": "code",
   "execution_count": 77,
   "id": "310c2bdc",
   "metadata": {},
   "outputs": [
    {
     "data": {
      "text/plain": [
       "array([12000., 16000., 11000., 13000., 14000., 10000.,  8000.,    nan,\n",
       "       18000., 17000.,  7000., 15000.,  9000.,  5000.,  6000., 19000.,\n",
       "        4000.,  3000.,  2000., 20000., 21000., 22000.])"
      ]
     },
     "execution_count": 77,
     "metadata": {},
     "output_type": "execute_result"
    }
   ],
   "source": [
    "cdf[\"ANNUAL_MILEAGE\"].unique()"
   ]
  },
  {
   "cell_type": "code",
   "execution_count": 78,
   "id": "f310fc84",
   "metadata": {},
   "outputs": [
    {
     "data": {
      "text/plain": [
       "<seaborn.axisgrid.FacetGrid at 0x2406bd62670>"
      ]
     },
     "execution_count": 78,
     "metadata": {},
     "output_type": "execute_result"
    },
    {
     "data": {
      "image/png": "[encoded data removed]",
      "text/plain": [
       "<Figure size 360x360 with 1 Axes>"
      ]
     },
     "metadata": {
      "needs_background": "light"
     },
     "output_type": "display_data"
    }
   ],
   "source": [
    "sns.displot(cdf[\"ANNUAL_MILEAGE\"])"
   ]
  },
  {
   "cell_type": "code",
   "execution_count": 73,
   "id": "0e080975",
   "metadata": {},
   "outputs": [
    {
     "data": {
      "text/plain": [
       "957"
      ]
     },
     "execution_count": 73,
     "metadata": {},
     "output_type": "execute_result"
    }
   ],
   "source": [
    "cdf[\"ANNUAL_MILEAGE\"].isnull().sum()"
   ]
  },
  {
   "cell_type": "code",
   "execution_count": 83,
   "id": "1915cb57",
   "metadata": {},
   "outputs": [],
   "source": [
    "cdf[\"ANNUAL_MILEAGE\"]=cdf[\"ANNUAL_MILEAGE\"].fillna(cdf[\"ANNUAL_MILEAGE\"].mean())"
   ]
  },
  {
   "cell_type": "code",
   "execution_count": 84,
   "id": "f4a2d940",
   "metadata": {},
   "outputs": [
    {
     "data": {
      "text/plain": [
       "0"
      ]
     },
     "execution_count": 84,
     "metadata": {},
     "output_type": "execute_result"
    }
   ],
   "source": [
    "cdf[\"ANNUAL_MILEAGE\"].isnull().sum()"
   ]
  },
  {
   "cell_type": "code",
   "execution_count": 85,
   "id": "e6163d83",
   "metadata": {},
   "outputs": [
    {
     "data": {
      "text/plain": [
       "<seaborn.axisgrid.FacetGrid at 0x24025663fd0>"
      ]
     },
     "execution_count": 85,
     "metadata": {},
     "output_type": "execute_result"
    },
    {
     "data": {
      "image/png": "[encoded data removed]",
      "text/plain": [
       "<Figure size 360x360 with 1 Axes>"
      ]
     },
     "metadata": {
      "needs_background": "light"
     },
     "output_type": "display_data"
    }
   ],
   "source": [
    "sns.displot(cdf[\"ANNUAL_MILEAGE\"])"
   ]
  },
  {
   "cell_type": "markdown",
   "id": "766af3cd",
   "metadata": {},
   "source": [
    "<div class=\"alert alert-block alert-info\">\n",
    "The null values were less than 10% and we can se how they \"break\" the distribution.\n",
    "</div>"
   ]
  },
  {
   "cell_type": "markdown",
   "id": "91f287bc",
   "metadata": {},
   "source": [
    "### 1.13 VEHICLE_TYPE\n",
    "Another freathure that is categorical, just 2 types."
   ]
  },
  {
   "cell_type": "code",
   "execution_count": 89,
   "id": "8c8ae2d7",
   "metadata": {},
   "outputs": [
    {
     "data": {
      "text/plain": [
       "array(['sedan', 'sports car'], dtype=object)"
      ]
     },
     "execution_count": 89,
     "metadata": {},
     "output_type": "execute_result"
    }
   ],
   "source": [
    "cdf[\"VEHICLE_TYPE\"].unique()"
   ]
  },
  {
   "cell_type": "code",
   "execution_count": 94,
   "id": "0f1a1d09",
   "metadata": {},
   "outputs": [],
   "source": [
    "cdf[\"VEHICLE_TYPE\"]=cdf[\"VEHICLE_TYPE\"].replace({'sedan':'s','sports car':'sc'})\n",
    "\n",
    "cdf[\"VEHICLE_TYPE\"] = pd.Categorical(\n",
    "    cdf[\"VEHICLE_TYPE\"]\n",
    ")"
   ]
  },
  {
   "cell_type": "code",
   "execution_count": 96,
   "id": "feee6b60",
   "metadata": {},
   "outputs": [
    {
     "data": {
      "text/plain": [
       "0       s\n",
       "1       s\n",
       "2       s\n",
       "3       s\n",
       "4       s\n",
       "       ..\n",
       "9995    s\n",
       "9996    s\n",
       "9997    s\n",
       "9998    s\n",
       "9999    s\n",
       "Name: VEHICLE_TYPE, Length: 10000, dtype: category\n",
       "Categories (2, object): ['s', 'sc']"
      ]
     },
     "execution_count": 96,
     "metadata": {},
     "output_type": "execute_result"
    }
   ],
   "source": [
    "cdf[\"VEHICLE_TYPE\"]"
   ]
  },
  {
   "cell_type": "code",
   "execution_count": 99,
   "id": "d5978aa6",
   "metadata": {},
   "outputs": [
    {
     "data": {
      "image/png": "[encoded data removed]",
      "text/plain": [
       "<Figure size 432x288 with 1 Axes>"
      ]
     },
     "metadata": {},
     "output_type": "display_data"
    }
   ],
   "source": [
    "values = cdf[\"VEHICLE_TYPE\"].value_counts()\n",
    "plt.pie(values,labels=[\"Sedan\",\"Sports Car\"],autopct='%.0f%%')\n",
    "plt.show()"
   ]
  },
  {
   "cell_type": "markdown",
   "id": "0a0c4a75",
   "metadata": {},
   "source": [
    "### 1.14 SPEEDING_VIOLATIONS\n",
    "Follows a geometric distribution. Do not require any modification."
   ]
  },
  {
   "cell_type": "code",
   "execution_count": 102,
   "id": "feaf5974",
   "metadata": {},
   "outputs": [
    {
     "data": {
      "text/plain": [
       "<seaborn.axisgrid.FacetGrid at 0x24025ac15b0>"
      ]
     },
     "execution_count": 102,
     "metadata": {},
     "output_type": "execute_result"
    },
    {
     "data": {
      "image/png": "[encoded data removed]",
      "text/plain": [
       "<Figure size 360x360 with 1 Axes>"
      ]
     },
     "metadata": {
      "needs_background": "light"
     },
     "output_type": "display_data"
    }
   ],
   "source": [
    "sns.displot(cdf[\"SPEEDING_VIOLATIONS\"])"
   ]
  },
  {
   "cell_type": "markdown",
   "id": "37e49163",
   "metadata": {},
   "source": [
    "### 1.15 DUIS\n",
    "Follows the same pattern as SPEEDING_VIOLATIONS"
   ]
  },
  {
   "cell_type": "code",
   "execution_count": 105,
   "id": "e86ff668",
   "metadata": {},
   "outputs": [
    {
     "data": {
      "text/plain": [
       "0       0\n",
       "1       0\n",
       "2       0\n",
       "3       0\n",
       "4       0\n",
       "       ..\n",
       "9995    0\n",
       "9996    0\n",
       "9997    0\n",
       "9998    0\n",
       "9999    0\n",
       "Name: DUIS, Length: 10000, dtype: int64"
      ]
     },
     "execution_count": 105,
     "metadata": {},
     "output_type": "execute_result"
    }
   ],
   "source": [
    "cdf[\"DUIS\"]"
   ]
  },
  {
   "cell_type": "code",
   "execution_count": 107,
   "id": "ed9bf5ed",
   "metadata": {},
   "outputs": [
    {
     "data": {
      "text/plain": [
       "<seaborn.axisgrid.FacetGrid at 0x24025ca8bb0>"
      ]
     },
     "execution_count": 107,
     "metadata": {},
     "output_type": "execute_result"
    },
    {
     "data": {
      "image/png": "[encoded data removed]",
      "text/plain": [
       "<Figure size 360x360 with 1 Axes>"
      ]
     },
     "metadata": {
      "needs_background": "light"
     },
     "output_type": "display_data"
    }
   ],
   "source": [
    "sns.displot(cdf[\"DUIS\"])"
   ]
  },
  {
   "cell_type": "markdown",
   "id": "3e45e13c",
   "metadata": {},
   "source": [
    "### 1.16 PAST_ACCIDENTS"
   ]
  },
  {
   "cell_type": "code",
   "execution_count": 109,
   "id": "7c9c7a5a",
   "metadata": {},
   "outputs": [
    {
     "data": {
      "text/plain": [
       "<seaborn.axisgrid.FacetGrid at 0x24025d67ac0>"
      ]
     },
     "execution_count": 109,
     "metadata": {},
     "output_type": "execute_result"
    },
    {
     "data": {
      "image/png": "[encoded data removed]",
      "text/plain": [
       "<Figure size 360x360 with 1 Axes>"
      ]
     },
     "metadata": {
      "needs_background": "light"
     },
     "output_type": "display_data"
    }
   ],
   "source": [
    "sns.displot(cdf[\"PAST_ACCIDENTS\"])"
   ]
  },
  {
   "cell_type": "markdown",
   "id": "cd8df610",
   "metadata": {},
   "source": [
    "### 1.17 OUTCOME\n",
    "This is the **Tag**, says if the client claimed the insurance.\n",
    "The only task is to change the data type from float64 to int32"
   ]
  },
  {
   "cell_type": "code",
   "execution_count": 113,
   "id": "c3e389ad",
   "metadata": {},
   "outputs": [],
   "source": [
    "cdf[\"OUTCOME\"] = cdf[\"OUTCOME\"].astype(\"int32\")"
   ]
  },
  {
   "cell_type": "code",
   "execution_count": 114,
   "id": "ba1ffae9",
   "metadata": {},
   "outputs": [
    {
     "data": {
      "text/plain": [
       "0       0\n",
       "1       1\n",
       "2       0\n",
       "3       0\n",
       "4       1\n",
       "       ..\n",
       "9995    0\n",
       "9996    0\n",
       "9997    0\n",
       "9998    1\n",
       "9999    0\n",
       "Name: OUTCOME, Length: 10000, dtype: int32"
      ]
     },
     "execution_count": 114,
     "metadata": {},
     "output_type": "execute_result"
    }
   ],
   "source": [
    "cdf[\"OUTCOME\"]"
   ]
  },
  {
   "cell_type": "code",
   "execution_count": 116,
   "id": "0415192a",
   "metadata": {},
   "outputs": [
    {
     "data": {
      "image/png": "[encoded data removed]",
      "text/plain": [
       "<Figure size 432x288 with 1 Axes>"
      ]
     },
     "metadata": {},
     "output_type": "display_data"
    }
   ],
   "source": [
    "values = cdf[\"OUTCOME\"].value_counts()\n",
    "plt.pie(values,labels=[\"Yes\",\"No\"],autopct='%.0f%%')\n",
    "plt.show()"
   ]
  },
  {
   "cell_type": "code",
   "execution_count": null,
   "id": "43eb4268",
   "metadata": {},
   "outputs": [],
   "source": []
  },
  {
   "cell_type": "code",
   "execution_count": 112,
   "id": "4ba5bf80",
   "metadata": {},
   "outputs": [
    {
     "name": "stdout",
     "output_type": "stream",
     "text": [
      "<class 'pandas.core.frame.DataFrame'>\n",
      "RangeIndex: 10000 entries, 0 to 9999\n",
      "Data columns (total 19 columns):\n",
      " #   Column               Non-Null Count  Dtype   \n",
      "---  ------               --------------  -----   \n",
      " 0   ID                   10000 non-null  int64   \n",
      " 1   AGE                  10000 non-null  category\n",
      " 2   GENDER               10000 non-null  object  \n",
      " 3   RACE                 10000 non-null  object  \n",
      " 4   DRIVING_EXPERIENCE   10000 non-null  category\n",
      " 5   EDUCATION            10000 non-null  category\n",
      " 6   INCOME               10000 non-null  category\n",
      " 7   CREDIT_SCORE         9018 non-null   float64 \n",
      " 8   VEHICLE_OWNERSHIP    10000 non-null  bool    \n",
      " 9   VEHICLE_YEAR         10000 non-null  category\n",
      " 10  MARRIED              10000 non-null  bool    \n",
      " 11  CHILDREN             10000 non-null  bool    \n",
      " 12  POSTAL_CODE          10000 non-null  category\n",
      " 13  ANNUAL_MILEAGE       10000 non-null  float64 \n",
      " 14  VEHICLE_TYPE         10000 non-null  category\n",
      " 15  SPEEDING_VIOLATIONS  10000 non-null  int64   \n",
      " 16  DUIS                 10000 non-null  int64   \n",
      " 17  PAST_ACCIDENTS       10000 non-null  int64   \n",
      " 18  OUTCOME              10000 non-null  float64 \n",
      "dtypes: bool(3), category(7), float64(3), int64(4), object(2)\n",
      "memory usage: 802.1+ KB\n"
     ]
    }
   ],
   "source": [
    "cdf.info()"
   ]
  },
  {
   "cell_type": "markdown",
   "id": "76145661",
   "metadata": {},
   "source": [
    "### 1.X CREDIT_SCORE cleaning\n",
    "CREDIT_SCORE contains some null values we will have to treat to have the greatest ammount of precission. After a shor investigation, we conclude that if a person dont have a credit history, they have a credit score of 0, so null values have to be cleaned."
   ]
  },
  {
   "cell_type": "code",
   "execution_count": 44,
   "id": "1acd3491",
   "metadata": {},
   "outputs": [
    {
     "data": {
      "text/plain": [
       "982"
      ]
     },
     "execution_count": 44,
     "metadata": {},
     "output_type": "execute_result"
    }
   ],
   "source": [
    "coches[\"CREDIT_SCORE\"].isnull().sum()"
   ]
  },
  {
   "cell_type": "markdown",
   "id": "ab2abd6a",
   "metadata": {},
   "source": [
    "<div class=\"alert alert-block alert-info\">\n",
    "We find 982 null values, which are the 9'82% of the values.\n",
    "</div>"
   ]
  },
  {
   "cell_type": "markdown",
   "id": "94d26d2d",
   "metadata": {},
   "source": [
    "**Solution**\n",
    "\n",
    "Because the freature is numerical, we can assign a new value for the missing ones, deleting the rows or the freature is discarded.\n",
    "\n",
    "Imputation metods:\n",
    "\n",
    "- Random: Discarded for being too imprecise for this case.\n",
    "- Mean: Simple but effective method in the worst case will not impact the result my a lot.\n",
    "- Mode: Works better for categorical data.\n",
    "- Median: Not the best method for continuous data, but we can still use it.\n",
    "- Model: The most precise solution, but also would cost a lot of time.\n",
    "\n",
    "We are going to use the *Mean* imputation method, because is the most efficient one"
   ]
  },
  {
   "cell_type": "code",
   "execution_count": 45,
   "id": "b13c8632",
   "metadata": {},
   "outputs": [
    {
     "data": {
      "text/plain": [
       "0       0.629027\n",
       "1       0.357757\n",
       "2       0.493146\n",
       "3       0.206013\n",
       "4       0.388366\n",
       "          ...   \n",
       "9995    0.582787\n",
       "9996    0.522231\n",
       "9997    0.470940\n",
       "9998    0.364185\n",
       "9999    0.435225\n",
       "Name: CREDIT_SCORE, Length: 10000, dtype: float64"
      ]
     },
     "execution_count": 45,
     "metadata": {},
     "output_type": "execute_result"
    }
   ],
   "source": [
    "coches[\"CREDIT_SCORE\"]"
   ]
  },
  {
   "cell_type": "code",
   "execution_count": 46,
   "id": "c99c1ba7",
   "metadata": {},
   "outputs": [
    {
     "data": {
      "text/plain": [
       "0       0.629027\n",
       "1       0.357757\n",
       "2       0.493146\n",
       "3       0.206013\n",
       "4       0.388366\n",
       "          ...   \n",
       "9995    0.582787\n",
       "9996    0.522231\n",
       "9997    0.470940\n",
       "9998    0.364185\n",
       "9999    0.435225\n",
       "Name: CREDIT_SCORE, Length: 10000, dtype: float64"
      ]
     },
     "execution_count": 46,
     "metadata": {},
     "output_type": "execute_result"
    }
   ],
   "source": [
    "coches[\"CREDIT_SCORE\"]"
   ]
  },
  {
   "cell_type": "code",
   "execution_count": 86,
   "id": "004fab77",
   "metadata": {},
   "outputs": [
    {
     "data": {
      "text/plain": [
       "<seaborn.axisgrid.FacetGrid at 0x240255c8a30>"
      ]
     },
     "execution_count": 86,
     "metadata": {},
     "output_type": "execute_result"
    },
    {
     "data": {
      "image/png": "[encoded data removed]",
      "text/plain": [
       "<Figure size 360x360 with 1 Axes>"
      ]
     },
     "metadata": {
      "needs_background": "light"
     },
     "output_type": "display_data"
    }
   ],
   "source": [
    "sns.displot(cdf[\"CREDIT_SCORE\"])"
   ]
  },
  {
   "cell_type": "code",
   "execution_count": null,
   "id": "fb04a1d6",
   "metadata": {},
   "outputs": [],
   "source": []
  }
 ],
 "metadata": {
  "kernelspec": {
   "display_name": "Python 3 (ipykernel)",
   "language": "python",
   "name": "python3"
  },
  "language_info": {
   "codemirror_mode": {
    "name": "ipython",
    "version": 3
   },
   "file_extension": ".py",
   "mimetype": "text/x-python",
   "name": "python",
   "nbconvert_exporter": "python",
   "pygments_lexer": "ipython3",
   "version": "3.9.7"
  }
 },
 "nbformat": 4,
 "nbformat_minor": 5
}
